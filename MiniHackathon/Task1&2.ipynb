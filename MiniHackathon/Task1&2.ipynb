{
 "cells": [
  {
   "attachments": {},
   "cell_type": "markdown",
   "metadata": {},
   "source": [
    "# Task 1"
   ]
  },
  {
   "cell_type": "code",
   "execution_count": 1,
   "metadata": {},
   "outputs": [],
   "source": [
    "import pandas as pd\n",
    "import matplotlib.pyplot as plt\n",
    "import torch\n",
    "from torch import nn, optim\n",
    "import torch.nn.functional as F\n",
    "from torch.utils.data import DataLoader, SequentialSampler, RandomSampler, BatchSampler\n",
    "import numpy as np"
   ]
  },
  {
   "cell_type": "code",
   "execution_count": 2,
   "metadata": {},
   "outputs": [],
   "source": [
    "train_data = pd.read_csv(\"./train.csv\").dropna()\n",
    "test_data = pd.read_csv(\"./test.csv\").dropna()"
   ]
  },
  {
   "cell_type": "code",
   "execution_count": 3,
   "metadata": {},
   "outputs": [
    {
     "data": {
      "text/plain": [
       "pandas.core.frame.DataFrame"
      ]
     },
     "execution_count": 3,
     "metadata": {},
     "output_type": "execute_result"
    }
   ],
   "source": [
    "type(train_data)"
   ]
  },
  {
   "cell_type": "code",
   "execution_count": 4,
   "metadata": {},
   "outputs": [
    {
     "data": {
      "text/html": [
       "<div>\n",
       "<style scoped>\n",
       "    .dataframe tbody tr th:only-of-type {\n",
       "        vertical-align: middle;\n",
       "    }\n",
       "\n",
       "    .dataframe tbody tr th {\n",
       "        vertical-align: top;\n",
       "    }\n",
       "\n",
       "    .dataframe thead th {\n",
       "        text-align: right;\n",
       "    }\n",
       "</style>\n",
       "<table border=\"1\" class=\"dataframe\">\n",
       "  <thead>\n",
       "    <tr style=\"text-align: right;\">\n",
       "      <th></th>\n",
       "      <th>PassengerId</th>\n",
       "      <th>Survived</th>\n",
       "      <th>Pclass</th>\n",
       "      <th>Name</th>\n",
       "      <th>Sex</th>\n",
       "      <th>Age</th>\n",
       "      <th>SibSp</th>\n",
       "      <th>Parch</th>\n",
       "      <th>Ticket</th>\n",
       "      <th>Fare</th>\n",
       "      <th>Cabin</th>\n",
       "      <th>Embarked</th>\n",
       "    </tr>\n",
       "  </thead>\n",
       "  <tbody>\n",
       "    <tr>\n",
       "      <th>1</th>\n",
       "      <td>2</td>\n",
       "      <td>1</td>\n",
       "      <td>1</td>\n",
       "      <td>Cumings, Mrs. John Bradley (Florence Briggs Th...</td>\n",
       "      <td>female</td>\n",
       "      <td>38.0</td>\n",
       "      <td>1</td>\n",
       "      <td>0</td>\n",
       "      <td>PC 17599</td>\n",
       "      <td>71.2833</td>\n",
       "      <td>C85</td>\n",
       "      <td>C</td>\n",
       "    </tr>\n",
       "    <tr>\n",
       "      <th>3</th>\n",
       "      <td>4</td>\n",
       "      <td>1</td>\n",
       "      <td>1</td>\n",
       "      <td>Futrelle, Mrs. Jacques Heath (Lily May Peel)</td>\n",
       "      <td>female</td>\n",
       "      <td>35.0</td>\n",
       "      <td>1</td>\n",
       "      <td>0</td>\n",
       "      <td>113803</td>\n",
       "      <td>53.1000</td>\n",
       "      <td>C123</td>\n",
       "      <td>S</td>\n",
       "    </tr>\n",
       "    <tr>\n",
       "      <th>6</th>\n",
       "      <td>7</td>\n",
       "      <td>0</td>\n",
       "      <td>1</td>\n",
       "      <td>McCarthy, Mr. Timothy J</td>\n",
       "      <td>male</td>\n",
       "      <td>54.0</td>\n",
       "      <td>0</td>\n",
       "      <td>0</td>\n",
       "      <td>17463</td>\n",
       "      <td>51.8625</td>\n",
       "      <td>E46</td>\n",
       "      <td>S</td>\n",
       "    </tr>\n",
       "    <tr>\n",
       "      <th>10</th>\n",
       "      <td>11</td>\n",
       "      <td>1</td>\n",
       "      <td>3</td>\n",
       "      <td>Sandstrom, Miss. Marguerite Rut</td>\n",
       "      <td>female</td>\n",
       "      <td>4.0</td>\n",
       "      <td>1</td>\n",
       "      <td>1</td>\n",
       "      <td>PP 9549</td>\n",
       "      <td>16.7000</td>\n",
       "      <td>G6</td>\n",
       "      <td>S</td>\n",
       "    </tr>\n",
       "    <tr>\n",
       "      <th>11</th>\n",
       "      <td>12</td>\n",
       "      <td>1</td>\n",
       "      <td>1</td>\n",
       "      <td>Bonnell, Miss. Elizabeth</td>\n",
       "      <td>female</td>\n",
       "      <td>58.0</td>\n",
       "      <td>0</td>\n",
       "      <td>0</td>\n",
       "      <td>113783</td>\n",
       "      <td>26.5500</td>\n",
       "      <td>C103</td>\n",
       "      <td>S</td>\n",
       "    </tr>\n",
       "  </tbody>\n",
       "</table>\n",
       "</div>"
      ],
      "text/plain": [
       "    PassengerId  Survived  Pclass  \\\n",
       "1             2         1       1   \n",
       "3             4         1       1   \n",
       "6             7         0       1   \n",
       "10           11         1       3   \n",
       "11           12         1       1   \n",
       "\n",
       "                                                 Name     Sex   Age  SibSp  \\\n",
       "1   Cumings, Mrs. John Bradley (Florence Briggs Th...  female  38.0      1   \n",
       "3        Futrelle, Mrs. Jacques Heath (Lily May Peel)  female  35.0      1   \n",
       "6                             McCarthy, Mr. Timothy J    male  54.0      0   \n",
       "10                    Sandstrom, Miss. Marguerite Rut  female   4.0      1   \n",
       "11                           Bonnell, Miss. Elizabeth  female  58.0      0   \n",
       "\n",
       "    Parch    Ticket     Fare Cabin Embarked  \n",
       "1       0  PC 17599  71.2833   C85        C  \n",
       "3       0    113803  53.1000  C123        S  \n",
       "6       0     17463  51.8625   E46        S  \n",
       "10      1   PP 9549  16.7000    G6        S  \n",
       "11      0    113783  26.5500  C103        S  "
      ]
     },
     "execution_count": 4,
     "metadata": {},
     "output_type": "execute_result"
    }
   ],
   "source": [
    "train_data.head()"
   ]
  },
  {
   "cell_type": "code",
   "execution_count": 5,
   "metadata": {},
   "outputs": [
    {
     "data": {
      "text/html": [
       "<div>\n",
       "<style scoped>\n",
       "    .dataframe tbody tr th:only-of-type {\n",
       "        vertical-align: middle;\n",
       "    }\n",
       "\n",
       "    .dataframe tbody tr th {\n",
       "        vertical-align: top;\n",
       "    }\n",
       "\n",
       "    .dataframe thead th {\n",
       "        text-align: right;\n",
       "    }\n",
       "</style>\n",
       "<table border=\"1\" class=\"dataframe\">\n",
       "  <thead>\n",
       "    <tr style=\"text-align: right;\">\n",
       "      <th></th>\n",
       "      <th>PassengerId</th>\n",
       "      <th>Survived</th>\n",
       "      <th>Pclass</th>\n",
       "      <th>Age</th>\n",
       "      <th>SibSp</th>\n",
       "      <th>Parch</th>\n",
       "      <th>Fare</th>\n",
       "    </tr>\n",
       "  </thead>\n",
       "  <tbody>\n",
       "    <tr>\n",
       "      <th>count</th>\n",
       "      <td>183.000000</td>\n",
       "      <td>183.000000</td>\n",
       "      <td>183.000000</td>\n",
       "      <td>183.000000</td>\n",
       "      <td>183.000000</td>\n",
       "      <td>183.000000</td>\n",
       "      <td>183.000000</td>\n",
       "    </tr>\n",
       "    <tr>\n",
       "      <th>mean</th>\n",
       "      <td>455.366120</td>\n",
       "      <td>0.672131</td>\n",
       "      <td>1.191257</td>\n",
       "      <td>35.674426</td>\n",
       "      <td>0.464481</td>\n",
       "      <td>0.475410</td>\n",
       "      <td>78.682469</td>\n",
       "    </tr>\n",
       "    <tr>\n",
       "      <th>std</th>\n",
       "      <td>247.052476</td>\n",
       "      <td>0.470725</td>\n",
       "      <td>0.515187</td>\n",
       "      <td>15.643866</td>\n",
       "      <td>0.644159</td>\n",
       "      <td>0.754617</td>\n",
       "      <td>76.347843</td>\n",
       "    </tr>\n",
       "    <tr>\n",
       "      <th>min</th>\n",
       "      <td>2.000000</td>\n",
       "      <td>0.000000</td>\n",
       "      <td>1.000000</td>\n",
       "      <td>0.920000</td>\n",
       "      <td>0.000000</td>\n",
       "      <td>0.000000</td>\n",
       "      <td>0.000000</td>\n",
       "    </tr>\n",
       "    <tr>\n",
       "      <th>25%</th>\n",
       "      <td>263.500000</td>\n",
       "      <td>0.000000</td>\n",
       "      <td>1.000000</td>\n",
       "      <td>24.000000</td>\n",
       "      <td>0.000000</td>\n",
       "      <td>0.000000</td>\n",
       "      <td>29.700000</td>\n",
       "    </tr>\n",
       "    <tr>\n",
       "      <th>50%</th>\n",
       "      <td>457.000000</td>\n",
       "      <td>1.000000</td>\n",
       "      <td>1.000000</td>\n",
       "      <td>36.000000</td>\n",
       "      <td>0.000000</td>\n",
       "      <td>0.000000</td>\n",
       "      <td>57.000000</td>\n",
       "    </tr>\n",
       "    <tr>\n",
       "      <th>75%</th>\n",
       "      <td>676.000000</td>\n",
       "      <td>1.000000</td>\n",
       "      <td>1.000000</td>\n",
       "      <td>47.500000</td>\n",
       "      <td>1.000000</td>\n",
       "      <td>1.000000</td>\n",
       "      <td>90.000000</td>\n",
       "    </tr>\n",
       "    <tr>\n",
       "      <th>max</th>\n",
       "      <td>890.000000</td>\n",
       "      <td>1.000000</td>\n",
       "      <td>3.000000</td>\n",
       "      <td>80.000000</td>\n",
       "      <td>3.000000</td>\n",
       "      <td>4.000000</td>\n",
       "      <td>512.329200</td>\n",
       "    </tr>\n",
       "  </tbody>\n",
       "</table>\n",
       "</div>"
      ],
      "text/plain": [
       "       PassengerId    Survived      Pclass         Age       SibSp  \\\n",
       "count   183.000000  183.000000  183.000000  183.000000  183.000000   \n",
       "mean    455.366120    0.672131    1.191257   35.674426    0.464481   \n",
       "std     247.052476    0.470725    0.515187   15.643866    0.644159   \n",
       "min       2.000000    0.000000    1.000000    0.920000    0.000000   \n",
       "25%     263.500000    0.000000    1.000000   24.000000    0.000000   \n",
       "50%     457.000000    1.000000    1.000000   36.000000    0.000000   \n",
       "75%     676.000000    1.000000    1.000000   47.500000    1.000000   \n",
       "max     890.000000    1.000000    3.000000   80.000000    3.000000   \n",
       "\n",
       "            Parch        Fare  \n",
       "count  183.000000  183.000000  \n",
       "mean     0.475410   78.682469  \n",
       "std      0.754617   76.347843  \n",
       "min      0.000000    0.000000  \n",
       "25%      0.000000   29.700000  \n",
       "50%      0.000000   57.000000  \n",
       "75%      1.000000   90.000000  \n",
       "max      4.000000  512.329200  "
      ]
     },
     "execution_count": 5,
     "metadata": {},
     "output_type": "execute_result"
    }
   ],
   "source": [
    "train_data.describe()"
   ]
  },
  {
   "cell_type": "code",
   "execution_count": 6,
   "metadata": {},
   "outputs": [
    {
     "data": {
      "text/plain": [
       "pandas.core.series.Series"
      ]
     },
     "execution_count": 6,
     "metadata": {},
     "output_type": "execute_result"
    }
   ],
   "source": [
    "type(train_data['Age'])"
   ]
  },
  {
   "cell_type": "code",
   "execution_count": 7,
   "metadata": {},
   "outputs": [
    {
     "data": {
      "text/plain": [
       "tensor([38.0000, 35.0000, 54.0000,  4.0000, 58.0000, 34.0000, 28.0000, 19.0000,\n",
       "        49.0000, 65.0000, 45.0000, 29.0000, 25.0000, 23.0000, 46.0000, 71.0000,\n",
       "        23.0000, 21.0000, 47.0000, 24.0000, 32.5000, 54.0000, 19.0000, 37.0000,\n",
       "        24.0000, 36.5000, 22.0000, 61.0000, 56.0000, 50.0000,  1.0000,  3.0000,\n",
       "        44.0000, 58.0000,  2.0000, 40.0000, 31.0000, 32.0000, 38.0000, 35.0000,\n",
       "        44.0000, 37.0000, 29.0000, 62.0000, 30.0000, 52.0000, 40.0000, 58.0000,\n",
       "        35.0000, 37.0000, 63.0000, 19.0000, 36.0000,  2.0000, 50.0000,  0.9200,\n",
       "        17.0000, 30.0000, 24.0000, 18.0000, 31.0000, 40.0000, 36.0000, 36.0000,\n",
       "        16.0000, 45.5000, 38.0000, 29.0000, 41.0000, 45.0000,  2.0000, 24.0000,\n",
       "        24.0000, 22.0000, 60.0000, 24.0000, 25.0000, 27.0000, 36.0000, 23.0000,\n",
       "        24.0000, 33.0000, 32.0000, 28.0000, 50.0000, 14.0000, 64.0000,  4.0000,\n",
       "        52.0000, 30.0000, 49.0000, 65.0000, 48.0000, 47.0000, 23.0000, 25.0000,\n",
       "        35.0000, 58.0000, 55.0000, 54.0000, 25.0000, 16.0000, 18.0000, 36.0000,\n",
       "        47.0000, 34.0000, 30.0000, 44.0000, 45.0000, 22.0000, 36.0000, 50.0000,\n",
       "        17.0000, 48.0000, 39.0000, 53.0000, 36.0000, 39.0000, 39.0000, 36.0000,\n",
       "        18.0000, 60.0000, 52.0000, 49.0000, 40.0000,  4.0000, 42.0000, 61.0000,\n",
       "        21.0000, 80.0000, 32.0000, 24.0000, 48.0000, 56.0000, 58.0000, 47.0000,\n",
       "        31.0000, 36.0000, 27.0000, 15.0000, 31.0000, 49.0000, 42.0000, 18.0000,\n",
       "        35.0000, 42.0000, 24.0000, 48.0000, 19.0000, 38.0000, 27.0000, 27.0000,\n",
       "        29.0000, 35.0000, 36.0000, 21.0000, 70.0000, 19.0000,  6.0000, 33.0000,\n",
       "        36.0000, 51.0000, 57.0000, 43.0000, 17.0000, 29.0000, 46.0000, 49.0000,\n",
       "        11.0000, 39.0000, 33.0000, 52.0000, 27.0000, 39.0000, 16.0000, 51.0000,\n",
       "        48.0000, 31.0000, 47.0000, 33.0000, 56.0000, 19.0000, 26.0000],\n",
       "       dtype=torch.float64)"
      ]
     },
     "execution_count": 7,
     "metadata": {},
     "output_type": "execute_result"
    }
   ],
   "source": [
    "torch.tensor(train_data['Age'].values)"
   ]
  },
  {
   "cell_type": "code",
   "execution_count": 8,
   "metadata": {},
   "outputs": [
    {
     "data": {
      "text/plain": [
       "183"
      ]
     },
     "execution_count": 8,
     "metadata": {},
     "output_type": "execute_result"
    }
   ],
   "source": [
    "len(torch.tensor(train_data['Age'].values))"
   ]
  },
  {
   "cell_type": "code",
   "execution_count": 9,
   "metadata": {},
   "outputs": [
    {
     "name": "stdout",
     "output_type": "stream",
     "text": [
      "(183, 12)\n",
      "(87, 11)\n"
     ]
    }
   ],
   "source": [
    "print(train_data.shape)\n",
    "print(test_data.shape)"
   ]
  },
  {
   "cell_type": "code",
   "execution_count": 10,
   "metadata": {},
   "outputs": [
    {
     "name": "stdout",
     "output_type": "stream",
     "text": [
      "Index(['PassengerId', 'Survived', 'Pclass', 'Name', 'Sex', 'Age', 'SibSp',\n",
      "       'Parch', 'Ticket', 'Fare', 'Cabin', 'Embarked'],\n",
      "      dtype='object')\n"
     ]
    }
   ],
   "source": [
    "print(train_data.columns)"
   ]
  },
  {
   "cell_type": "code",
   "execution_count": 11,
   "metadata": {},
   "outputs": [
    {
     "name": "stdout",
     "output_type": "stream",
     "text": [
      "Total rows = 183\n",
      "No of unique:\n",
      "\n",
      "PassengerId = (183,)\n",
      "Survived = (2,)\n",
      "Pclass = (3,)\n",
      "Name = (183,)\n",
      "Sex = (2,)\n",
      "Age = (63,)\n",
      "SibSp = (4,)\n",
      "Parch = (4,)\n",
      "Ticket = (127,)\n",
      "Fare = (93,)\n",
      "Cabin = (133,)\n",
      "Embarked = (3,)\n"
     ]
    }
   ],
   "source": [
    "print(f\"Total rows = {train_data.shape[0]}\")\n",
    "print(\"No of unique:\")\n",
    "print()\n",
    "for column in train_data.columns:\n",
    "\tprint(f\"{column} = {train_data[column].unique().shape}\")"
   ]
  },
  {
   "cell_type": "code",
   "execution_count": 12,
   "metadata": {},
   "outputs": [
    {
     "data": {
      "text/html": [
       "<div>\n",
       "<style scoped>\n",
       "    .dataframe tbody tr th:only-of-type {\n",
       "        vertical-align: middle;\n",
       "    }\n",
       "\n",
       "    .dataframe tbody tr th {\n",
       "        vertical-align: top;\n",
       "    }\n",
       "\n",
       "    .dataframe thead th {\n",
       "        text-align: right;\n",
       "    }\n",
       "</style>\n",
       "<table border=\"1\" class=\"dataframe\">\n",
       "  <thead>\n",
       "    <tr style=\"text-align: right;\">\n",
       "      <th></th>\n",
       "      <th>PassengerId</th>\n",
       "      <th>Survived</th>\n",
       "      <th>Pclass</th>\n",
       "      <th>Name</th>\n",
       "      <th>Sex</th>\n",
       "      <th>Age</th>\n",
       "      <th>SibSp</th>\n",
       "      <th>Parch</th>\n",
       "      <th>Ticket</th>\n",
       "      <th>Fare</th>\n",
       "      <th>Cabin</th>\n",
       "      <th>Embarked</th>\n",
       "    </tr>\n",
       "  </thead>\n",
       "  <tbody>\n",
       "    <tr>\n",
       "      <th>1</th>\n",
       "      <td>2</td>\n",
       "      <td>1</td>\n",
       "      <td>1</td>\n",
       "      <td>Cumings, Mrs. John Bradley (Florence Briggs Th...</td>\n",
       "      <td>0</td>\n",
       "      <td>38.0</td>\n",
       "      <td>1</td>\n",
       "      <td>0</td>\n",
       "      <td>0</td>\n",
       "      <td>71.2833</td>\n",
       "      <td>0</td>\n",
       "      <td>0</td>\n",
       "    </tr>\n",
       "    <tr>\n",
       "      <th>3</th>\n",
       "      <td>4</td>\n",
       "      <td>1</td>\n",
       "      <td>1</td>\n",
       "      <td>Futrelle, Mrs. Jacques Heath (Lily May Peel)</td>\n",
       "      <td>0</td>\n",
       "      <td>35.0</td>\n",
       "      <td>1</td>\n",
       "      <td>0</td>\n",
       "      <td>1</td>\n",
       "      <td>53.1000</td>\n",
       "      <td>1</td>\n",
       "      <td>1</td>\n",
       "    </tr>\n",
       "    <tr>\n",
       "      <th>6</th>\n",
       "      <td>7</td>\n",
       "      <td>0</td>\n",
       "      <td>1</td>\n",
       "      <td>McCarthy, Mr. Timothy J</td>\n",
       "      <td>1</td>\n",
       "      <td>54.0</td>\n",
       "      <td>0</td>\n",
       "      <td>0</td>\n",
       "      <td>2</td>\n",
       "      <td>51.8625</td>\n",
       "      <td>2</td>\n",
       "      <td>1</td>\n",
       "    </tr>\n",
       "    <tr>\n",
       "      <th>10</th>\n",
       "      <td>11</td>\n",
       "      <td>1</td>\n",
       "      <td>3</td>\n",
       "      <td>Sandstrom, Miss. Marguerite Rut</td>\n",
       "      <td>0</td>\n",
       "      <td>4.0</td>\n",
       "      <td>1</td>\n",
       "      <td>1</td>\n",
       "      <td>3</td>\n",
       "      <td>16.7000</td>\n",
       "      <td>3</td>\n",
       "      <td>1</td>\n",
       "    </tr>\n",
       "    <tr>\n",
       "      <th>11</th>\n",
       "      <td>12</td>\n",
       "      <td>1</td>\n",
       "      <td>1</td>\n",
       "      <td>Bonnell, Miss. Elizabeth</td>\n",
       "      <td>0</td>\n",
       "      <td>58.0</td>\n",
       "      <td>0</td>\n",
       "      <td>0</td>\n",
       "      <td>4</td>\n",
       "      <td>26.5500</td>\n",
       "      <td>4</td>\n",
       "      <td>1</td>\n",
       "    </tr>\n",
       "  </tbody>\n",
       "</table>\n",
       "</div>"
      ],
      "text/plain": [
       "    PassengerId  Survived  Pclass  \\\n",
       "1             2         1       1   \n",
       "3             4         1       1   \n",
       "6             7         0       1   \n",
       "10           11         1       3   \n",
       "11           12         1       1   \n",
       "\n",
       "                                                 Name  Sex   Age  SibSp  \\\n",
       "1   Cumings, Mrs. John Bradley (Florence Briggs Th...    0  38.0      1   \n",
       "3        Futrelle, Mrs. Jacques Heath (Lily May Peel)    0  35.0      1   \n",
       "6                             McCarthy, Mr. Timothy J    1  54.0      0   \n",
       "10                    Sandstrom, Miss. Marguerite Rut    0   4.0      1   \n",
       "11                           Bonnell, Miss. Elizabeth    0  58.0      0   \n",
       "\n",
       "    Parch  Ticket     Fare  Cabin  Embarked  \n",
       "1       0       0  71.2833      0         0  \n",
       "3       0       1  53.1000      1         1  \n",
       "6       0       2  51.8625      2         1  \n",
       "10      1       3  16.7000      3         1  \n",
       "11      0       4  26.5500      4         1  "
      ]
     },
     "execution_count": 12,
     "metadata": {},
     "output_type": "execute_result"
    }
   ],
   "source": [
    "sexdict = {}\n",
    "ticketdict = {}\n",
    "cabindict = {}\n",
    "embarkeddict = {}\n",
    "\n",
    "for i,item in enumerate(train_data['Sex'].unique()):\n",
    "    sexdict[item] = i\n",
    "for i,item in enumerate(train_data['Ticket'].unique()):\n",
    "    ticketdict[item] = i\n",
    "for i,item in enumerate(train_data['Cabin'].unique()):\n",
    "    cabindict[item] = i\n",
    "for i,item in enumerate(train_data['Embarked'].unique()):\n",
    "    embarkeddict[item] = i\n",
    "train_data['Sex'] = train_data['Sex'].replace(sexdict)\n",
    "train_data['Ticket'] = train_data['Ticket'].replace(ticketdict)\n",
    "train_data['Cabin'] = train_data['Cabin'].replace(cabindict)\n",
    "train_data['Embarked'] = train_data['Embarked'].replace(embarkeddict)\n",
    "train_data.head()"
   ]
  },
  {
   "cell_type": "code",
   "execution_count": 13,
   "metadata": {},
   "outputs": [
    {
     "data": {
      "text/plain": [
       "{'C': 0, 'S': 1, 'Q': 2}"
      ]
     },
     "execution_count": 13,
     "metadata": {},
     "output_type": "execute_result"
    }
   ],
   "source": [
    "embarkeddict"
   ]
  },
  {
   "cell_type": "code",
   "execution_count": 14,
   "metadata": {},
   "outputs": [
    {
     "data": {
      "text/plain": [
       "tensor([[  1.0000,   0.0000,  38.0000,  ...,  71.2833,   0.0000,   0.0000],\n",
       "        [  1.0000,   0.0000,  35.0000,  ...,  53.1000,   1.0000,   1.0000],\n",
       "        [  1.0000,   1.0000,  54.0000,  ...,  51.8625,   2.0000,   1.0000],\n",
       "        ...,\n",
       "        [  1.0000,   0.0000,  56.0000,  ...,  83.1583, 130.0000,   0.0000],\n",
       "        [  1.0000,   0.0000,  19.0000,  ...,  30.0000, 131.0000,   1.0000],\n",
       "        [  1.0000,   1.0000,  26.0000,  ...,  30.0000, 132.0000,   0.0000]],\n",
       "       dtype=torch.float64)"
      ]
     },
     "execution_count": 14,
     "metadata": {},
     "output_type": "execute_result"
    }
   ],
   "source": [
    "torch.tensor(train_data[['Pclass','Sex','Age','SibSp','Parch','Ticket','Fare','Cabin','Embarked']].values)"
   ]
  },
  {
   "cell_type": "code",
   "execution_count": 15,
   "metadata": {},
   "outputs": [],
   "source": [
    "# Train Val Split\n",
    "# mask = np.random.choice([0,1],size=len(train_data),p=[0.3,0.7])\n",
    "# print(mask.sum()/len(train_data))\n",
    "# train_df = train_data[mask]\n",
    "# val_df = train_data[~mask]\n",
    "# print(len(train_df))\n",
    "# print(len(val_df))"
   ]
  },
  {
   "cell_type": "code",
   "execution_count": 16,
   "metadata": {},
   "outputs": [
    {
     "name": "stdout",
     "output_type": "stream",
     "text": [
      "146\n",
      "37\n",
      "183\n"
     ]
    },
    {
     "data": {
      "text/html": [
       "<div>\n",
       "<style scoped>\n",
       "    .dataframe tbody tr th:only-of-type {\n",
       "        vertical-align: middle;\n",
       "    }\n",
       "\n",
       "    .dataframe tbody tr th {\n",
       "        vertical-align: top;\n",
       "    }\n",
       "\n",
       "    .dataframe thead th {\n",
       "        text-align: right;\n",
       "    }\n",
       "</style>\n",
       "<table border=\"1\" class=\"dataframe\">\n",
       "  <thead>\n",
       "    <tr style=\"text-align: right;\">\n",
       "      <th></th>\n",
       "      <th>PassengerId</th>\n",
       "      <th>Survived</th>\n",
       "      <th>Pclass</th>\n",
       "      <th>Name</th>\n",
       "      <th>Sex</th>\n",
       "      <th>Age</th>\n",
       "      <th>SibSp</th>\n",
       "      <th>Parch</th>\n",
       "      <th>Ticket</th>\n",
       "      <th>Fare</th>\n",
       "      <th>Cabin</th>\n",
       "      <th>Embarked</th>\n",
       "    </tr>\n",
       "  </thead>\n",
       "  <tbody>\n",
       "    <tr>\n",
       "      <th>23</th>\n",
       "      <td>24</td>\n",
       "      <td>1</td>\n",
       "      <td>1</td>\n",
       "      <td>Sloper, Mr. William Thompson</td>\n",
       "      <td>1</td>\n",
       "      <td>28.0</td>\n",
       "      <td>0</td>\n",
       "      <td>0</td>\n",
       "      <td>6</td>\n",
       "      <td>35.5000</td>\n",
       "      <td>6</td>\n",
       "      <td>1</td>\n",
       "    </tr>\n",
       "    <tr>\n",
       "      <th>556</th>\n",
       "      <td>557</td>\n",
       "      <td>1</td>\n",
       "      <td>1</td>\n",
       "      <td>Duff Gordon, Lady. (Lucille Christiana Sutherl...</td>\n",
       "      <td>0</td>\n",
       "      <td>48.0</td>\n",
       "      <td>1</td>\n",
       "      <td>0</td>\n",
       "      <td>88</td>\n",
       "      <td>39.6000</td>\n",
       "      <td>87</td>\n",
       "      <td>0</td>\n",
       "    </tr>\n",
       "    <tr>\n",
       "      <th>645</th>\n",
       "      <td>646</td>\n",
       "      <td>1</td>\n",
       "      <td>1</td>\n",
       "      <td>Harper, Mr. Henry Sleeper</td>\n",
       "      <td>1</td>\n",
       "      <td>48.0</td>\n",
       "      <td>1</td>\n",
       "      <td>0</td>\n",
       "      <td>8</td>\n",
       "      <td>76.7292</td>\n",
       "      <td>8</td>\n",
       "      <td>0</td>\n",
       "    </tr>\n",
       "    <tr>\n",
       "      <th>319</th>\n",
       "      <td>320</td>\n",
       "      <td>1</td>\n",
       "      <td>1</td>\n",
       "      <td>Spedden, Mrs. Frederic Oakley (Margaretta Corn...</td>\n",
       "      <td>0</td>\n",
       "      <td>40.0</td>\n",
       "      <td>1</td>\n",
       "      <td>1</td>\n",
       "      <td>53</td>\n",
       "      <td>134.5000</td>\n",
       "      <td>52</td>\n",
       "      <td>0</td>\n",
       "    </tr>\n",
       "    <tr>\n",
       "      <th>21</th>\n",
       "      <td>22</td>\n",
       "      <td>1</td>\n",
       "      <td>2</td>\n",
       "      <td>Beesley, Mr. Lawrence</td>\n",
       "      <td>1</td>\n",
       "      <td>34.0</td>\n",
       "      <td>0</td>\n",
       "      <td>0</td>\n",
       "      <td>5</td>\n",
       "      <td>13.0000</td>\n",
       "      <td>5</td>\n",
       "      <td>1</td>\n",
       "    </tr>\n",
       "    <tr>\n",
       "      <th>...</th>\n",
       "      <td>...</td>\n",
       "      <td>...</td>\n",
       "      <td>...</td>\n",
       "      <td>...</td>\n",
       "      <td>...</td>\n",
       "      <td>...</td>\n",
       "      <td>...</td>\n",
       "      <td>...</td>\n",
       "      <td>...</td>\n",
       "      <td>...</td>\n",
       "      <td>...</td>\n",
       "      <td>...</td>\n",
       "    </tr>\n",
       "    <tr>\n",
       "      <th>609</th>\n",
       "      <td>610</td>\n",
       "      <td>1</td>\n",
       "      <td>1</td>\n",
       "      <td>Shutes, Miss. Elizabeth W</td>\n",
       "      <td>0</td>\n",
       "      <td>40.0</td>\n",
       "      <td>0</td>\n",
       "      <td>0</td>\n",
       "      <td>41</td>\n",
       "      <td>153.4625</td>\n",
       "      <td>40</td>\n",
       "      <td>1</td>\n",
       "    </tr>\n",
       "    <tr>\n",
       "      <th>581</th>\n",
       "      <td>582</td>\n",
       "      <td>1</td>\n",
       "      <td>1</td>\n",
       "      <td>Thayer, Mrs. John Borland (Marian Longstreth M...</td>\n",
       "      <td>0</td>\n",
       "      <td>39.0</td>\n",
       "      <td>1</td>\n",
       "      <td>1</td>\n",
       "      <td>87</td>\n",
       "      <td>110.8833</td>\n",
       "      <td>89</td>\n",
       "      <td>0</td>\n",
       "    </tr>\n",
       "    <tr>\n",
       "      <th>512</th>\n",
       "      <td>513</td>\n",
       "      <td>1</td>\n",
       "      <td>1</td>\n",
       "      <td>McGough, Mr. James Robert</td>\n",
       "      <td>1</td>\n",
       "      <td>36.0</td>\n",
       "      <td>0</td>\n",
       "      <td>0</td>\n",
       "      <td>79</td>\n",
       "      <td>26.2875</td>\n",
       "      <td>79</td>\n",
       "      <td>1</td>\n",
       "    </tr>\n",
       "    <tr>\n",
       "      <th>269</th>\n",
       "      <td>270</td>\n",
       "      <td>1</td>\n",
       "      <td>1</td>\n",
       "      <td>Bissette, Miss. Amelia</td>\n",
       "      <td>0</td>\n",
       "      <td>35.0</td>\n",
       "      <td>0</td>\n",
       "      <td>0</td>\n",
       "      <td>42</td>\n",
       "      <td>135.6333</td>\n",
       "      <td>41</td>\n",
       "      <td>1</td>\n",
       "    </tr>\n",
       "    <tr>\n",
       "      <th>857</th>\n",
       "      <td>858</td>\n",
       "      <td>1</td>\n",
       "      <td>1</td>\n",
       "      <td>Daly, Mr. Peter Denis</td>\n",
       "      <td>1</td>\n",
       "      <td>51.0</td>\n",
       "      <td>0</td>\n",
       "      <td>0</td>\n",
       "      <td>121</td>\n",
       "      <td>26.5500</td>\n",
       "      <td>128</td>\n",
       "      <td>1</td>\n",
       "    </tr>\n",
       "  </tbody>\n",
       "</table>\n",
       "<p>146 rows × 12 columns</p>\n",
       "</div>"
      ],
      "text/plain": [
       "     PassengerId  Survived  Pclass  \\\n",
       "23            24         1       1   \n",
       "556          557         1       1   \n",
       "645          646         1       1   \n",
       "319          320         1       1   \n",
       "21            22         1       2   \n",
       "..           ...       ...     ...   \n",
       "609          610         1       1   \n",
       "581          582         1       1   \n",
       "512          513         1       1   \n",
       "269          270         1       1   \n",
       "857          858         1       1   \n",
       "\n",
       "                                                  Name  Sex   Age  SibSp  \\\n",
       "23                        Sloper, Mr. William Thompson    1  28.0      0   \n",
       "556  Duff Gordon, Lady. (Lucille Christiana Sutherl...    0  48.0      1   \n",
       "645                          Harper, Mr. Henry Sleeper    1  48.0      1   \n",
       "319  Spedden, Mrs. Frederic Oakley (Margaretta Corn...    0  40.0      1   \n",
       "21                               Beesley, Mr. Lawrence    1  34.0      0   \n",
       "..                                                 ...  ...   ...    ...   \n",
       "609                          Shutes, Miss. Elizabeth W    0  40.0      0   \n",
       "581  Thayer, Mrs. John Borland (Marian Longstreth M...    0  39.0      1   \n",
       "512                          McGough, Mr. James Robert    1  36.0      0   \n",
       "269                             Bissette, Miss. Amelia    0  35.0      0   \n",
       "857                             Daly, Mr. Peter Denis     1  51.0      0   \n",
       "\n",
       "     Parch  Ticket      Fare  Cabin  Embarked  \n",
       "23       0       6   35.5000      6         1  \n",
       "556      0      88   39.6000     87         0  \n",
       "645      0       8   76.7292      8         0  \n",
       "319      1      53  134.5000     52         0  \n",
       "21       0       5   13.0000      5         1  \n",
       "..     ...     ...       ...    ...       ...  \n",
       "609      0      41  153.4625     40         1  \n",
       "581      1      87  110.8833     89         0  \n",
       "512      0      79   26.2875     79         1  \n",
       "269      0      42  135.6333     41         1  \n",
       "857      0     121   26.5500    128         1  \n",
       "\n",
       "[146 rows x 12 columns]"
      ]
     },
     "execution_count": 16,
     "metadata": {},
     "output_type": "execute_result"
    }
   ],
   "source": [
    "train_df = train_data.sample(frac=0.8)\n",
    "val_df = train_data.drop(train_df.index)\n",
    "print(len(train_df))\n",
    "print(len(val_df))\n",
    "print(len(train_data))\n",
    "train_df"
   ]
  },
  {
   "cell_type": "code",
   "execution_count": 17,
   "metadata": {},
   "outputs": [],
   "source": [
    "class Dataset():\n",
    "    def __init__(self, df):\n",
    "        # self.x = torch.tensor(df[['Pclass','Sex','Age','SibSp','Parch','Ticket','Fare','Cabin','Embarked']].values,dtype=float)\n",
    "        self.x = torch.tensor(df[['Pclass','Sex','Age','SibSp','Parch','Fare','Embarked']].values,dtype=float)\n",
    "        self.y = torch.tensor(df['Survived'].values,dtype=int)\n",
    "    def __len__(self): return len(self.y)\n",
    "    def __getitem__(self, i): return self.x[i],self.y[i]"
   ]
  },
  {
   "cell_type": "code",
   "execution_count": 18,
   "metadata": {},
   "outputs": [],
   "source": [
    "train_ds,val_ds = Dataset(train_df),Dataset(val_df)\n",
    "assert len(train_ds)==len(train_df)\n",
    "assert len(val_ds)==len(val_df)"
   ]
  },
  {
   "cell_type": "code",
   "execution_count": 19,
   "metadata": {},
   "outputs": [
    {
     "name": "stdout",
     "output_type": "stream",
     "text": [
      "torch.Size([5, 7])\n",
      "torch.Size([5])\n"
     ]
    },
    {
     "data": {
      "text/plain": [
       "(tensor([[  1.0000,   1.0000,  28.0000,   0.0000,   0.0000,  35.5000,   1.0000],\n",
       "         [  1.0000,   0.0000,  48.0000,   1.0000,   0.0000,  39.6000,   0.0000],\n",
       "         [  1.0000,   1.0000,  48.0000,   1.0000,   0.0000,  76.7292,   0.0000],\n",
       "         [  1.0000,   0.0000,  40.0000,   1.0000,   1.0000, 134.5000,   0.0000],\n",
       "         [  2.0000,   1.0000,  34.0000,   0.0000,   0.0000,  13.0000,   1.0000]],\n",
       "        dtype=torch.float64),\n",
       " tensor([1, 1, 1, 1, 1]))"
      ]
     },
     "execution_count": 19,
     "metadata": {},
     "output_type": "execute_result"
    }
   ],
   "source": [
    "xb,yb = train_ds[0:5]\n",
    "print(xb.shape)\n",
    "print(yb.shape)\n",
    "xb,yb"
   ]
  },
  {
   "cell_type": "code",
   "execution_count": 20,
   "metadata": {},
   "outputs": [
    {
     "name": "stdout",
     "output_type": "stream",
     "text": [
      "tensor([[ 1.3229e+00,  6.3144e-01,  1.7547e-03,  1.7582e+00,  1.0038e-01],\n",
      "        [-9.1348e-01,  1.2946e+00, -1.2020e+00,  3.0924e-01,  2.2605e+00],\n",
      "        [ 5.3095e-01, -2.0284e-01, -9.8212e-01, -1.3727e+00, -1.2953e+00]],\n",
      "       dtype=torch.float64, requires_grad=True)\n",
      "tensor([1, 1, 0, 1, 1])\n",
      "tensor([[ 1.3229,  0.6314,  0.0000,  1.7582,  0.1004],\n",
      "        [-0.9135,  1.2946, -0.0000,  0.3092,  2.2605],\n",
      "        [ 0.5309, -0.2028, -0.0000, -1.3727, -1.2953]], dtype=torch.float64,\n",
      "       grad_fn=<MulBackward0>)\n",
      "tensor([[ 0.4437, -0.2975,  0.0000, -2.2824, -1.6947],\n",
      "        [-1.2608,  1.8033,  0.0000,  4.4931,  4.8851],\n",
      "        [-0.3799, -0.4757,  0.0000, -1.8183, -0.8786],\n",
      "        [ 1.2622,  1.3621,  0.0000, -0.5783, -0.1397],\n",
      "        [ 4.5469,  0.7044,  0.0000,  1.4766, -3.0380],\n",
      "        [-1.5780,  2.2252,  0.0000,  1.3494,  4.2448],\n",
      "        [-1.1676,  1.2438,  0.0000, -0.8792,  1.9435],\n",
      "        [-0.0882, -1.5770,  0.0000, -0.7881, -1.7804],\n",
      "        [-2.3634,  0.9877,  0.0000, -0.4445,  3.0279],\n",
      "        [-0.1474,  1.5170,  0.0000,  0.6069,  1.8700]], dtype=torch.float64,\n",
      "       grad_fn=<MmBackward0>)\n"
     ]
    }
   ],
   "source": [
    "inp = torch.randn(10,3,dtype=float).requires_grad_()\n",
    "w1 = torch.randn(3,5,dtype=float).requires_grad_()\n",
    "print(w1)\n",
    "drop = torch.tensor(np.random.choice([0,1], size=w1.shape[1], p=[0.2,0.8]))\n",
    "print(drop)\n",
    "res = torch.mul(w1,drop[None,:])\n",
    "print(res)\n",
    "print(inp@res)\n"
   ]
  },
  {
   "cell_type": "code",
   "execution_count": 21,
   "metadata": {},
   "outputs": [],
   "source": [
    "class Linear(nn.Module):\n",
    "    def __init__(self, n_in, n_out, p, q):\n",
    "        super().__init__()\n",
    "        self.w1 = torch.randn(n_in,n_out,dtype=float).requires_grad_()\n",
    "        self.w2 = torch.randn(p,q,dtype=float).requires_grad_()\n",
    "        self.b = torch.zeros(n_out,dtype=float).requires_grad_()\n",
    "    def forward(self, inp):\n",
    "        return torch.einsum('ab,bc,pq->acpq', (inp, self.w1, self.w2)) + self.b[None,:,None,None]\n",
    "    def parameters(self):\n",
    "        return (self.w1,self.w2)"
   ]
  },
  {
   "cell_type": "code",
   "execution_count": 22,
   "metadata": {},
   "outputs": [],
   "source": [
    "# fwd = Linear(9,5,2,3)\n",
    "# op = fwd(xb)\n",
    "# print(op.shape)\n",
    "# print(op)"
   ]
  },
  {
   "cell_type": "code",
   "execution_count": 23,
   "metadata": {},
   "outputs": [],
   "source": [
    "# fwd.b"
   ]
  },
  {
   "cell_type": "code",
   "execution_count": 24,
   "metadata": {},
   "outputs": [],
   "source": [
    "# temp = torch.einsum('abcd->ab',op)\n",
    "# temp"
   ]
  },
  {
   "cell_type": "code",
   "execution_count": 25,
   "metadata": {},
   "outputs": [],
   "source": [
    "class Dropout(nn.Module):\n",
    "    def __init__(self, p=0.5):\n",
    "        super().__init__()\n",
    "        self.p = p\n",
    "    def forward(self, inp):\n",
    "        if self.training: inp = inp.mul(torch.tensor(np.random.choice([0,1], size=inp.shape[1], p=[self.p,1-self.p])))\n",
    "        return inp"
   ]
  },
  {
   "cell_type": "code",
   "execution_count": 26,
   "metadata": {},
   "outputs": [],
   "source": [
    "inp = torch.randn(10,3,dtype=float).requires_grad_()\n",
    "test = Dropout(0.3)"
   ]
  },
  {
   "cell_type": "code",
   "execution_count": 27,
   "metadata": {},
   "outputs": [
    {
     "data": {
      "text/plain": [
       "tensor([[ 0.4621, -0.2130, -0.2217],\n",
       "        [-0.0855, -1.5616, -1.0800],\n",
       "        [-0.0319,  0.9206,  0.5428],\n",
       "        [-0.2332,  1.2532,  0.1712],\n",
       "        [ 0.6363,  0.0658, -0.1382],\n",
       "        [ 0.0219,  0.5588, -0.1841],\n",
       "        [ 0.6196,  0.2055, -0.2327],\n",
       "        [ 0.9443,  1.4848,  0.5614],\n",
       "        [-0.2622,  0.6972,  0.6506],\n",
       "        [ 0.7634,  0.5284,  1.8743]], dtype=torch.float64,\n",
       "       grad_fn=<MulBackward0>)"
      ]
     },
     "execution_count": 27,
     "metadata": {},
     "output_type": "execute_result"
    }
   ],
   "source": [
    "test.train()\n",
    "test(inp)"
   ]
  },
  {
   "cell_type": "code",
   "execution_count": 28,
   "metadata": {},
   "outputs": [],
   "source": [
    "class ReLU_Sum(nn.Module):\n",
    "    def __init__(self,clamp=1):\n",
    "        super().__init__()\n",
    "        self.clamp = clamp\n",
    "    def forward(self,inp):\n",
    "        if self.clamp:\n",
    "            # return torch.einsum('abcd->ab',inp).clamp(min=0)/(inp.shape[2]*inp.shape[3])\n",
    "            # return torch.einsum('abcd->ab',inp).clamp(min=0)\n",
    "            return torch.mean(inp,dim=[2,3]).clamp(min=0)\n",
    "        else:\n",
    "            # return torch.einsum('abcd->ab',inp)/(inp.shape[2]*inp.shape[3])\n",
    "            # return torch.einsum('abcd->ab',inp)\n",
    "            return torch.mean(inp,dim=[2,3])"
   ]
  },
  {
   "cell_type": "code",
   "execution_count": 29,
   "metadata": {},
   "outputs": [],
   "source": [
    "# actfn = ReLU_Sum()\n",
    "# temp = actfn(op)\n",
    "# temp,temp.shape"
   ]
  },
  {
   "cell_type": "code",
   "execution_count": 30,
   "metadata": {},
   "outputs": [],
   "source": [
    "# n_in = 9\n",
    "# nh = 15\n",
    "# n_out = 1\n",
    "# p = 5\n",
    "# q = 5\n",
    "# xb1 = xb\n",
    "# layers = [Linear(n_in,nh,p,q),ReLU_Sum(),Linear(nh,n_out,p,q),ReLU_Sum(0)]\n",
    "# for l in layers: xb1 = l(xb1)\n",
    "# print(xb.shape)\n",
    "# print(yb[:,None].shape)\n",
    "# F.mse_loss(xb,yb[:,None])"
   ]
  },
  {
   "cell_type": "code",
   "execution_count": 31,
   "metadata": {},
   "outputs": [],
   "source": [
    "class Model(nn.Module):\n",
    "    def __init__(self, layers):\n",
    "        super().__init__()\n",
    "        # self._modules = {}\n",
    "        # self.layers = nn.ModuleList([Linear(n_in,nh,p,q),ReLU_Sum(),Linear(nh,n_out,p,q),ReLU_Sum(0)])\n",
    "        self.layers = layers\n",
    "        # self.l1 = Linear(n_in,nh,p,q)\n",
    "        # self.r1 = ReLU_Sum()\n",
    "        # self.l2 = Linear(nh,n_out,p,q)\n",
    "        # self.r2 = ReLU_Sum(0)\n",
    "\n",
    "    # def __setattr__(self,k,v):\n",
    "    #     if not k.startswith(\"_\"): self._modules[k] = v\n",
    "    #     super().__setattr__(k,v)\n",
    "\n",
    "    # def __repr__(self): return f'{self._modules}'\n",
    "\n",
    "    def parameters(self):\n",
    "        for l in self.layers: yield from l.parameters()\n",
    "        # for l in self._modules.values(): yield from l.parameters()\n",
    "        \n",
    "    # def __call__(self, x, targ):\n",
    "    def __call__(self, x):\n",
    "        for l in self.layers: x = l(x)\n",
    "        # for l in self._modules.values(): x = l(x)\n",
    "        # return F.mse_loss(x,targ[:,None])\n",
    "        return x"
   ]
  },
  {
   "cell_type": "code",
   "execution_count": 32,
   "metadata": {},
   "outputs": [],
   "source": [
    "# def collate(b):\n",
    "#     xs,ys = zip(*b)\n",
    "#     return torch.stack(xs),torch.stack(ys)"
   ]
  },
  {
   "cell_type": "code",
   "execution_count": 33,
   "metadata": {},
   "outputs": [],
   "source": [
    "# train_samp = BatchSampler(RandomSampler(train_ds), 50, drop_last=False)\n",
    "# val_samp = BatchSampler(SequentialSampler(val_ds), 50, drop_last=False)"
   ]
  },
  {
   "cell_type": "code",
   "execution_count": 34,
   "metadata": {},
   "outputs": [],
   "source": [
    "# train_dl = DataLoader(train_ds, batch_sampler=train_samp, collate_fn=collate)\n",
    "# val_dl = DataLoader(val_ds, batch_sampler=val_samp, collate_fn=collate)"
   ]
  },
  {
   "cell_type": "code",
   "execution_count": 35,
   "metadata": {},
   "outputs": [],
   "source": [
    "# train_dl = DataLoader(train_ds, sampler=train_samp)\n",
    "# val_dl = DataLoader(val_ds, sampler=val_samp)"
   ]
  },
  {
   "cell_type": "code",
   "execution_count": 36,
   "metadata": {},
   "outputs": [],
   "source": [
    "# xb,yb = next(iter(val_dl))\n",
    "# xb.shape,yb.shape"
   ]
  },
  {
   "cell_type": "code",
   "execution_count": 37,
   "metadata": {},
   "outputs": [],
   "source": [
    "# model = Model(9,15,1,5,5)\n",
    "# loss = model(xb,yb)\n",
    "# print(loss)\n",
    "# loss.backward()"
   ]
  },
  {
   "cell_type": "code",
   "execution_count": 38,
   "metadata": {},
   "outputs": [],
   "source": [
    "# l0 = model.layers[0]\n",
    "# print(l0.b.grad)"
   ]
  },
  {
   "cell_type": "code",
   "execution_count": 39,
   "metadata": {},
   "outputs": [],
   "source": [
    "# model = Model(9,15,2,5,5)\n",
    "# pred = model(train_ds.x)\n",
    "# pred.shape"
   ]
  },
  {
   "cell_type": "code",
   "execution_count": 40,
   "metadata": {},
   "outputs": [],
   "source": [
    "# pred"
   ]
  },
  {
   "cell_type": "code",
   "execution_count": 41,
   "metadata": {},
   "outputs": [],
   "source": [
    "# loss_func(pred,train_ds.y)"
   ]
  },
  {
   "cell_type": "code",
   "execution_count": 42,
   "metadata": {},
   "outputs": [],
   "source": [
    "# pred.argmax(dim=1)"
   ]
  },
  {
   "cell_type": "code",
   "execution_count": 43,
   "metadata": {},
   "outputs": [],
   "source": [
    "def accuracy(out, targ): return (out.argmax(dim=1)==targ).float().mean()"
   ]
  },
  {
   "cell_type": "code",
   "execution_count": 44,
   "metadata": {},
   "outputs": [],
   "source": [
    "# accuracy(pred, train_ds.y)"
   ]
  },
  {
   "cell_type": "code",
   "execution_count": 45,
   "metadata": {},
   "outputs": [],
   "source": [
    "def report(loss, preds, yb):\n",
    "\tacc = accuracy(preds, yb)\n",
    "\tprint(f'{loss}, {acc}')\n",
    "\treturn acc"
   ]
  },
  {
   "cell_type": "code",
   "execution_count": 46,
   "metadata": {},
   "outputs": [],
   "source": [
    "# xb,yb = train_ds.x[:bs],train_ds.y[:bs]\n",
    "# preds = model(xb)\n",
    "# report(loss_func(preds, yb), preds, yb)"
   ]
  },
  {
   "cell_type": "code",
   "execution_count": 47,
   "metadata": {},
   "outputs": [],
   "source": [
    "# list(model.named_children())"
   ]
  },
  {
   "cell_type": "code",
   "execution_count": 48,
   "metadata": {},
   "outputs": [],
   "source": [
    "# list(model.parameters())[2].shape"
   ]
  },
  {
   "cell_type": "code",
   "execution_count": 49,
   "metadata": {},
   "outputs": [],
   "source": [
    "# model"
   ]
  },
  {
   "cell_type": "code",
   "execution_count": 68,
   "metadata": {},
   "outputs": [],
   "source": [
    "def get_model(p1,p2):\n",
    "    layers = nn.ModuleList([Linear(7,15,3,3),\n",
    "                   ReLU_Sum(),\n",
    "                   Dropout(p1),\n",
    "                   Linear(15,2,3,3),\n",
    "                   ReLU_Sum(0),\n",
    "                   Dropout(p2)])\n",
    "    model = Model(layers)\n",
    "    return model"
   ]
  },
  {
   "cell_type": "code",
   "execution_count": 69,
   "metadata": {},
   "outputs": [],
   "source": [
    "# model= get_model()\n",
    "# loss_func(model(xb), yb)"
   ]
  },
  {
   "cell_type": "code",
   "execution_count": 70,
   "metadata": {},
   "outputs": [],
   "source": [
    "# opt = optim.SGD(model.parameters(), lr=lr)"
   ]
  },
  {
   "cell_type": "code",
   "execution_count": 71,
   "metadata": {},
   "outputs": [],
   "source": [
    "# s = slice(0, 50)\n",
    "# xb,yb = train_ds.x[s],train_ds.y[s]\n",
    "# preds = model(xb)\n",
    "# loss = loss_func(preds, yb)"
   ]
  },
  {
   "cell_type": "code",
   "execution_count": 72,
   "metadata": {},
   "outputs": [],
   "source": [
    "# print(xb.shape,yb.shape)\n",
    "# print((preds[:,1]>preds[:,0]).float().mean())\n",
    "# print(loss)"
   ]
  },
  {
   "cell_type": "code",
   "execution_count": 73,
   "metadata": {},
   "outputs": [],
   "source": [
    "# loss.backward()"
   ]
  },
  {
   "cell_type": "code",
   "execution_count": 74,
   "metadata": {},
   "outputs": [],
   "source": [
    "# # list(model.parameters())[0]\n",
    "# list(model.parameters())[0].grad"
   ]
  },
  {
   "cell_type": "code",
   "execution_count": 75,
   "metadata": {},
   "outputs": [],
   "source": [
    "# opt.step()\n",
    "# list(model.parameters())[0]\n",
    "# # list(model.parameters())[0].grad"
   ]
  },
  {
   "cell_type": "code",
   "execution_count": 76,
   "metadata": {},
   "outputs": [],
   "source": [
    "# opt.zero_grad()\n",
    "# list(model.parameters())[0].grad"
   ]
  },
  {
   "cell_type": "code",
   "execution_count": 77,
   "metadata": {},
   "outputs": [],
   "source": [
    "# lr = 0.05\n",
    "# epochs = 100\n",
    "# bs = 100\n",
    "# n = len(train_ds)\n",
    "\n",
    "# model= get_model()\n",
    "# opt = optim.Adam(model.parameters(), lr=lr, weight_decay=1e-4)\n",
    "# sch = optim.lr_scheduler.ExponentialLR(opt, 0.99)\n",
    "# loss_hist = []\n",
    "# valloss_hist = []\n",
    "# acc_hist = []\n",
    "# valacc_hist = []\n",
    "\n",
    "# for epoch in range(epochs):\n",
    "#     for i in range(0, n, bs):\n",
    "#         s = slice(i, min(n,i+bs))\n",
    "#         xb,yb = train_ds.x[s],train_ds.y[s]\n",
    "#         preds = model(xb)\n",
    "#         loss = loss_func(preds, yb)\n",
    "#         loss_hist.append(loss.detach().numpy())\n",
    "#         loss.backward()\n",
    "#         opt.step()\n",
    "#         opt.zero_grad()\n",
    "#     sch.step()\n",
    "#     acc_hist.append(report(loss, preds, yb))\n",
    "#     if(epoch%5==0):\n",
    "#         print(\"VAL:\")\n",
    "#         with torch.no_grad():\n",
    "#             xb,yb = val_ds.x,val_ds.y\n",
    "#             preds = model(xb)\n",
    "#             loss = loss_func(preds, yb)\n",
    "#             valloss_hist.append(loss.detach().numpy())\n",
    "#             valacc_hist.append(report(loss, preds, yb))"
   ]
  },
  {
   "cell_type": "code",
   "execution_count": 78,
   "metadata": {},
   "outputs": [],
   "source": [
    "# plt.plot(loss_hist)\n",
    "# plt.plot(valloss_hist)"
   ]
  },
  {
   "cell_type": "code",
   "execution_count": 79,
   "metadata": {},
   "outputs": [],
   "source": [
    "# plt.plot(acc_hist)\n",
    "# plt.plot(valacc_hist)"
   ]
  },
  {
   "cell_type": "code",
   "execution_count": 80,
   "metadata": {},
   "outputs": [],
   "source": [
    "def fit(epochs, model, loss_func, opt, sch, train_dl, valid_dl, verbose=False):\n",
    "    \n",
    "    loss_hist = []\n",
    "    valloss_hist = []\n",
    "    valacc_hist = []\n",
    "    # best_params = None\n",
    "    # best_acc = 0\n",
    "    \n",
    "    for epoch in range(epochs):\n",
    "        model.train()\n",
    "        tot_loss,count = 0.,0\n",
    "        for xb,yb in train_dl:\n",
    "            loss = loss_func(model(xb), yb)\n",
    "            n = len(xb)\n",
    "            count += n\n",
    "            tot_loss += loss.item()*n\n",
    "            loss.backward()\n",
    "            opt.step()\n",
    "            opt.zero_grad()\n",
    "            \n",
    "        loss_hist.append(tot_loss/count)\n",
    "\n",
    "        model.eval()\n",
    "        with torch.no_grad():\n",
    "            tot_loss,tot_acc,count = 0.,0.,0\n",
    "            for xb,yb in valid_dl:\n",
    "                pred = model(xb)\n",
    "                n = len(xb)\n",
    "                count += n\n",
    "                tot_loss += loss_func(pred,yb).item()*n\n",
    "                tot_acc  += accuracy (pred,yb).item()*n\n",
    "        \n",
    "        acc = tot_acc/count\n",
    "        valloss_hist.append(tot_loss/count)\n",
    "        valacc_hist.append(tot_acc/count)\n",
    "        if verbose:\n",
    "            print(epoch, tot_loss/count, tot_acc/count)\n",
    "\n",
    "        # if(acc>best_acc):\n",
    "        #     best_acc = acc\n",
    "        #     best_params = model.parameters()\n",
    "        #     print(f\"New best model with acc = {acc}\")\n",
    "\n",
    "        sch.step()\n",
    "    # return (loss_hist,valloss_hist,valacc_hist,best_params,best_acc)\n",
    "    return (loss_hist,valloss_hist,valacc_hist)"
   ]
  },
  {
   "cell_type": "code",
   "execution_count": 81,
   "metadata": {},
   "outputs": [],
   "source": [
    "def get_dls(train_ds, valid_ds, bs, **kwargs):\n",
    "    return (DataLoader(train_ds, batch_size=bs, shuffle=True, **kwargs),\n",
    "            DataLoader(valid_ds, batch_size=bs*2, shuffle=False, **kwargs))"
   ]
  },
  {
   "cell_type": "code",
   "execution_count": 82,
   "metadata": {},
   "outputs": [],
   "source": [
    "bs = 100\n",
    "train_dl,valid_dl = get_dls(train_ds, val_ds, bs)"
   ]
  },
  {
   "cell_type": "code",
   "execution_count": 83,
   "metadata": {},
   "outputs": [],
   "source": [
    "model = get_model(0.2,0.4)"
   ]
  },
  {
   "cell_type": "code",
   "execution_count": 84,
   "metadata": {},
   "outputs": [
    {
     "name": "stdout",
     "output_type": "stream",
     "text": [
      "torch.Size([7, 15])\n",
      "torch.Size([3, 3])\n",
      "torch.Size([15, 2])\n",
      "torch.Size([3, 3])\n"
     ]
    }
   ],
   "source": [
    "for p in model.parameters(): print(p.shape)"
   ]
  },
  {
   "cell_type": "code",
   "execution_count": 85,
   "metadata": {},
   "outputs": [
    {
     "name": "stdout",
     "output_type": "stream",
     "text": [
      "CPU times: user 1.13 s, sys: 108 ms, total: 1.24 s\n",
      "Wall time: 1.2 s\n"
     ]
    }
   ],
   "source": [
    "lr = 0.5\n",
    "epochs = 500\n",
    "opt = optim.Adam(model.parameters(), lr=lr, weight_decay=1e-7)\n",
    "sch = optim.lr_scheduler.ExponentialLR(opt, 0.999)\n",
    "loss_func = F.cross_entropy\n",
    "\n",
    "%time lh,vlh,vah = fit(epochs, model, loss_func, opt, sch, train_dl, valid_dl)"
   ]
  },
  {
   "cell_type": "code",
   "execution_count": 86,
   "metadata": {},
   "outputs": [
    {
     "data": {
      "text/plain": [
       "[<matplotlib.lines.Line2D at 0x16b299190>]"
      ]
     },
     "execution_count": 86,
     "metadata": {},
     "output_type": "execute_result"
    },
    {
     "data": {
      "image/png": "[encoded data removed]",
      "text/plain": [
       "<Figure size 640x480 with 1 Axes>"
      ]
     },
     "metadata": {},
     "output_type": "display_data"
    }
   ],
   "source": [
    "plt.plot(lh)\n",
    "plt.plot(vlh)"
   ]
  },
  {
   "cell_type": "code",
   "execution_count": 87,
   "metadata": {},
   "outputs": [
    {
     "data": {
      "text/plain": [
       "[<matplotlib.lines.Line2D at 0x16d18ded0>]"
      ]
     },
     "execution_count": 87,
     "metadata": {},
     "output_type": "execute_result"
    },
    {
     "data": {
      "image/png": "[encoded data removed]",
      "text/plain": [
       "<Figure size 640x480 with 1 Axes>"
      ]
     },
     "metadata": {},
     "output_type": "display_data"
    }
   ],
   "source": [
    "plt.plot(vah)"
   ]
  },
  {
   "cell_type": "code",
   "execution_count": 143,
   "metadata": {},
   "outputs": [],
   "source": [
    "# Best of n Val Acc\n",
    "def test_loop(p1,p2,epochs,n, plot5=False):\n",
    "    VA = []\n",
    "    for i in range(n):\n",
    "        model = get_model(p1,p2)\n",
    "        lr = 0.05\n",
    "        opt = optim.Adam(model.parameters(), lr=lr, weight_decay=1e-7)\n",
    "        sch = optim.lr_scheduler.ExponentialLR(opt, 0.995)\n",
    "        _,_,val_acc = fit(epochs, model, loss_func, opt, sch, train_dl, valid_dl, verbose=False)\n",
    "        VA.append(val_acc)\n",
    "\n",
    "    if plot5:\n",
    "        plt.plot(VA[0])\n",
    "        plt.plot(VA[1])\n",
    "        plt.plot(VA[2])\n",
    "        plt.plot(VA[3])\n",
    "        plt.plot(VA[4])\n",
    "\n",
    "    sum = 0\n",
    "    max = 0\n",
    "    min = 1\n",
    "    for i in range(n):\n",
    "        sum += VA[i][-1] \n",
    "        if VA[i][-1] > max:\n",
    "            max = VA[i][-1]\n",
    "        if VA[i][-1] < min:\n",
    "            min = VA[i][-1]\n",
    "    \n",
    "    return (VA,sum/n,max,min)"
   ]
  },
  {
   "cell_type": "code",
   "execution_count": 145,
   "metadata": {},
   "outputs": [
    {
     "name": "stdout",
     "output_type": "stream",
     "text": [
      "Average  |  Maximum  |  Minimum  |  p1  |  p2\n",
      "0.6567567586898804 0.7027027010917664 0.5675675868988037 0 0\n",
      "New Max Avg!\n",
      "0.6945945918560028 0.7837837934494019 0.5945945978164673 0 0.1\n",
      "New Max Avg!\n",
      "0.6837837815284729 0.7297297120094299 0.5675675868988037 0 0.2\n",
      "0.7027027010917664 0.8108108043670654 0.6216216087341309 0 0.3\n",
      "New Max Avg!\n",
      "0.6756756722927093 0.7837837934494019 0.5405405163764954 0 0.4\n",
      "0.6432432472705841 0.6756756901741028 0.5945945978164673 0 0.5\n",
      "0.6783783733844757 0.7297297120094299 0.5675675868988037 0 0.6\n",
      "0.762162160873413 0.8108108043670654 0.6756756901741028 0.1 0\n",
      "New Max Avg!\n",
      "0.7702702820301056 0.837837815284729 0.6756756901741028 0.1 0.1\n",
      "New Max Avg!\n",
      "0.7567567646503448 0.8108108043670654 0.7027027010917664 0.1 0.2\n",
      "0.7405405461788177 0.8108108043670654 0.7027027010917664 0.1 0.3\n",
      "0.7297297239303588 0.8108108043670654 0.6756756901741028 0.1 0.4\n",
      "0.7486486494541168 0.8108108043670654 0.6216216087341309 0.1 0.5\n",
      "0.7378378450870514 0.7837837934494019 0.6756756901741028 0.1 0.6\n",
      "0.754054069519043 0.7837837934494019 0.7297297120094299 0.2 0\n",
      "0.7648648679256439 0.8108108043670654 0.7297297120094299 0.2 0.1\n",
      "0.7513513684272766 0.8108108043670654 0.6756756901741028 0.2 0.2\n",
      "0.7513513505458832 0.8108108043670654 0.7027027010917664 0.2 0.3\n",
      "0.7594594717025757 0.8108108043670654 0.7027027010917664 0.2 0.4\n",
      "0.7567567706108094 0.8108108043670654 0.6756756901741028 0.2 0.5\n",
      "0.6837837785482407 0.8108108043670654 0.2702702581882477 0.2 0.6\n",
      "0.745945954322815 0.7837837934494019 0.6756756901741028 0.3 0\n",
      "0.7756756901741028 0.8108108043670654 0.7567567825317383 0.3 0.1\n",
      "New Max Avg!\n",
      "0.7594594657421112 0.7837837934494019 0.7027027010917664 0.3 0.2\n",
      "0.7594594597816468 0.8108108043670654 0.6756756901741028 0.3 0.3\n",
      "0.7594594717025757 0.837837815284729 0.7027027010917664 0.3 0.4\n",
      "0.7513513445854187 0.8108108043670654 0.7027027010917664 0.3 0.5\n",
      "0.7297297418117523 0.7837837934494019 0.6756756901741028 0.3 0.6\n",
      "0.7702702760696412 0.8108108043670654 0.7027027010917664 0.4 0\n",
      "0.7567567646503448 0.7837837934494019 0.7027027010917664 0.4 0.1\n",
      "0.7378378450870514 0.7837837934494019 0.6756756901741028 0.4 0.2\n",
      "0.7567567646503448 0.837837815284729 0.6486486196517944 0.4 0.3\n",
      "0.7594594657421112 0.8108108043670654 0.7027027010917664 0.4 0.4\n",
      "0.7540540575981141 0.7837837934494019 0.7297297120094299 0.4 0.5\n",
      "0.7513513445854187 0.837837815284729 0.7027027010917664 0.4 0.6\n",
      "0.7648648738861084 0.8108108043670654 0.7297297120094299 0.5 0\n",
      "0.7486486494541168 0.8108108043670654 0.7027027010917664 0.5 0.1\n",
      "0.7405405402183532 0.8108108043670654 0.7027027010917664 0.5 0.2\n",
      "0.7729729771614074 0.8108108043670654 0.7027027010917664 0.5 0.3\n",
      "0.7729729771614074 0.8108108043670654 0.7027027010917664 0.5 0.4\n",
      "0.7513513624668121 0.7837837934494019 0.6756756901741028 0.5 0.5\n",
      "0.783783781528473 0.8108108043670654 0.7027027010917664 0.5 0.6\n",
      "New Max Avg!\n",
      "0.7567567586898803 0.837837815284729 0.6756756901741028 0.6 0\n",
      "0.7405405521392823 0.8108108043670654 0.6756756901741028 0.6 0.1\n",
      "0.7756756782531739 0.837837815284729 0.7297297120094299 0.6 0.2\n",
      "0.7837837874889374 0.837837815284729 0.7027027010917664 0.6 0.3\n",
      "New Max Avg!\n",
      "0.7567567586898803 0.8108108043670654 0.7027027010917664 0.6 0.4\n",
      "0.7756756722927094 0.8108108043670654 0.7027027010917664 0.6 0.5\n",
      "0.7567567586898803 0.8108108043670654 0.7027027010917664 0.6 0.6\n",
      "Maximum of Average accuracy at end of 500 epochs= 0.7837837874889374 at p1= 0.6, p2= 0.3\n",
      "Maximum of Max accuracy at end of 500 epochs= 0.837837815284729\n",
      "Minimum of Min accuracy at end of 500 epochs= 0.2702702581882477\n"
     ]
    }
   ],
   "source": [
    "# Hyperparameters\n",
    "\n",
    "# p1 = 0.4\n",
    "# p2 = 0.4\n",
    "epochs = 500\n",
    "n = 10\n",
    "\n",
    "p_test = [0,0.1,0.2,0.3,0.4,0.5,0.6]\n",
    "\n",
    "maxmax = 0\n",
    "minmin = 1\n",
    "maxavg = 0\n",
    "best_p1 = 0\n",
    "best_p2 = 0\n",
    "print(\"Average  |  Maximum  |  Minimum  |  p1  |  p2\")\n",
    "for p1 in p_test:\n",
    "    for p2 in p_test:\n",
    "        _,avg,max,min = test_loop(p1,p2,epochs,n,plot5=False)\n",
    "        print(avg,max,min,p1,p2)\n",
    "\n",
    "        if avg > maxavg:\n",
    "            maxavg = avg\n",
    "            best_p1 = p1\n",
    "            best_p2 = p2\n",
    "            print(\"New Max Avg!\")\n",
    "        if max > maxmax:\n",
    "            maxmax = max\n",
    "        if min < minmin:\n",
    "            minmin = min\n",
    "\n",
    "\n",
    "print(f\"Maximum of Average accuracy at end of 500 epochs= {maxavg} at p1= {best_p1}, p2= {best_p2}\")\n",
    "print(f\"Maximum of Max accuracy at end of 500 epochs= {maxmax}\")\n",
    "print(f\"Minimum of Min accuracy at end of 500 epochs= {minmin}\")"
   ]
  },
  {
   "attachments": {},
   "cell_type": "markdown",
   "metadata": {},
   "source": [
    "From above loop, p1 = 0.6 and p2 = 0.3 gives the best average accuracy of $\\approx 78.4$%"
   ]
  },
  {
   "cell_type": "code",
   "execution_count": null,
   "metadata": {},
   "outputs": [],
   "source": []
  },
  {
   "cell_type": "code",
   "execution_count": 109,
   "metadata": {},
   "outputs": [],
   "source": [
    "# best_model = get_model()\n",
    "# best_model.parameters() = best_params\n",
    "\n",
    "# best_model.eval()\n",
    "# with torch.no_grad():\n",
    "# \ttot_loss,tot_acc,count = 0.,0.,0\n",
    "# \tfor xb,yb in valid_dl:\n",
    "# \t\tpred = best_model(xb)\n",
    "# \t\tn = len(xb)\n",
    "# \t\tcount += n\n",
    "# \t\ttot_loss += loss_func(pred,yb).item()*n\n",
    "# \t\ttot_acc  += accuracy (pred,yb).item()*n\n",
    "\n",
    "# acc = tot_acc/count\n",
    "# print(acc)\n",
    "# print(best_acc)\n",
    "# print(vah[-1])"
   ]
  },
  {
   "attachments": {},
   "cell_type": "markdown",
   "metadata": {},
   "source": [
    "# Task 2"
   ]
  },
  {
   "cell_type": "code",
   "execution_count": null,
   "metadata": {},
   "outputs": [],
   "source": []
  }
 ],
 "metadata": {
  "kernelspec": {
   "display_name": "PyTorch2.0",
   "language": "python",
   "name": "python3"
  },
  "language_info": {
   "codemirror_mode": {
    "name": "ipython",
    "version": 3
   },
   "file_extension": ".py",
   "mimetype": "text/x-python",
   "name": "python",
   "nbconvert_exporter": "python",
   "pygments_lexer": "ipython3",
   "version": "3.11.3"
  },
  "orig_nbformat": 4
 },
 "nbformat": 4,
 "nbformat_minor": 2
}
