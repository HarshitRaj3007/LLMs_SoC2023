{
 "cells": [
  {
   "cell_type": "code",
   "execution_count": 277,
   "metadata": {},
   "outputs": [],
   "source": [
    "import pandas as pd\n",
    "import matplotlib.pyplot as plt\n",
    "import torch\n",
    "from torch import nn, optim\n",
    "import torch.nn.functional as F\n",
    "from torch.utils.data import DataLoader, SequentialSampler, RandomSampler, BatchSampler\n",
    "import numpy as np"
   ]
  },
  {
   "cell_type": "code",
   "execution_count": 2,
   "metadata": {},
   "outputs": [],
   "source": [
    "train_data = pd.read_csv(\"./train.csv\").dropna()\n",
    "test_data = pd.read_csv(\"./test.csv\").dropna()"
   ]
  },
  {
   "cell_type": "code",
   "execution_count": 3,
   "metadata": {},
   "outputs": [
    {
     "data": {
      "text/plain": [
       "pandas.core.frame.DataFrame"
      ]
     },
     "execution_count": 3,
     "metadata": {},
     "output_type": "execute_result"
    }
   ],
   "source": [
    "type(train_data)"
   ]
  },
  {
   "cell_type": "code",
   "execution_count": 4,
   "metadata": {},
   "outputs": [
    {
     "data": {
      "text/html": [
       "<div>\n",
       "<style scoped>\n",
       "    .dataframe tbody tr th:only-of-type {\n",
       "        vertical-align: middle;\n",
       "    }\n",
       "\n",
       "    .dataframe tbody tr th {\n",
       "        vertical-align: top;\n",
       "    }\n",
       "\n",
       "    .dataframe thead th {\n",
       "        text-align: right;\n",
       "    }\n",
       "</style>\n",
       "<table border=\"1\" class=\"dataframe\">\n",
       "  <thead>\n",
       "    <tr style=\"text-align: right;\">\n",
       "      <th></th>\n",
       "      <th>PassengerId</th>\n",
       "      <th>Survived</th>\n",
       "      <th>Pclass</th>\n",
       "      <th>Name</th>\n",
       "      <th>Sex</th>\n",
       "      <th>Age</th>\n",
       "      <th>SibSp</th>\n",
       "      <th>Parch</th>\n",
       "      <th>Ticket</th>\n",
       "      <th>Fare</th>\n",
       "      <th>Cabin</th>\n",
       "      <th>Embarked</th>\n",
       "    </tr>\n",
       "  </thead>\n",
       "  <tbody>\n",
       "    <tr>\n",
       "      <th>1</th>\n",
       "      <td>2</td>\n",
       "      <td>1</td>\n",
       "      <td>1</td>\n",
       "      <td>Cumings, Mrs. John Bradley (Florence Briggs Th...</td>\n",
       "      <td>female</td>\n",
       "      <td>38.0</td>\n",
       "      <td>1</td>\n",
       "      <td>0</td>\n",
       "      <td>PC 17599</td>\n",
       "      <td>71.2833</td>\n",
       "      <td>C85</td>\n",
       "      <td>C</td>\n",
       "    </tr>\n",
       "    <tr>\n",
       "      <th>3</th>\n",
       "      <td>4</td>\n",
       "      <td>1</td>\n",
       "      <td>1</td>\n",
       "      <td>Futrelle, Mrs. Jacques Heath (Lily May Peel)</td>\n",
       "      <td>female</td>\n",
       "      <td>35.0</td>\n",
       "      <td>1</td>\n",
       "      <td>0</td>\n",
       "      <td>113803</td>\n",
       "      <td>53.1000</td>\n",
       "      <td>C123</td>\n",
       "      <td>S</td>\n",
       "    </tr>\n",
       "    <tr>\n",
       "      <th>6</th>\n",
       "      <td>7</td>\n",
       "      <td>0</td>\n",
       "      <td>1</td>\n",
       "      <td>McCarthy, Mr. Timothy J</td>\n",
       "      <td>male</td>\n",
       "      <td>54.0</td>\n",
       "      <td>0</td>\n",
       "      <td>0</td>\n",
       "      <td>17463</td>\n",
       "      <td>51.8625</td>\n",
       "      <td>E46</td>\n",
       "      <td>S</td>\n",
       "    </tr>\n",
       "    <tr>\n",
       "      <th>10</th>\n",
       "      <td>11</td>\n",
       "      <td>1</td>\n",
       "      <td>3</td>\n",
       "      <td>Sandstrom, Miss. Marguerite Rut</td>\n",
       "      <td>female</td>\n",
       "      <td>4.0</td>\n",
       "      <td>1</td>\n",
       "      <td>1</td>\n",
       "      <td>PP 9549</td>\n",
       "      <td>16.7000</td>\n",
       "      <td>G6</td>\n",
       "      <td>S</td>\n",
       "    </tr>\n",
       "    <tr>\n",
       "      <th>11</th>\n",
       "      <td>12</td>\n",
       "      <td>1</td>\n",
       "      <td>1</td>\n",
       "      <td>Bonnell, Miss. Elizabeth</td>\n",
       "      <td>female</td>\n",
       "      <td>58.0</td>\n",
       "      <td>0</td>\n",
       "      <td>0</td>\n",
       "      <td>113783</td>\n",
       "      <td>26.5500</td>\n",
       "      <td>C103</td>\n",
       "      <td>S</td>\n",
       "    </tr>\n",
       "  </tbody>\n",
       "</table>\n",
       "</div>"
      ],
      "text/plain": [
       "    PassengerId  Survived  Pclass  \\\n",
       "1             2         1       1   \n",
       "3             4         1       1   \n",
       "6             7         0       1   \n",
       "10           11         1       3   \n",
       "11           12         1       1   \n",
       "\n",
       "                                                 Name     Sex   Age  SibSp  \\\n",
       "1   Cumings, Mrs. John Bradley (Florence Briggs Th...  female  38.0      1   \n",
       "3        Futrelle, Mrs. Jacques Heath (Lily May Peel)  female  35.0      1   \n",
       "6                             McCarthy, Mr. Timothy J    male  54.0      0   \n",
       "10                    Sandstrom, Miss. Marguerite Rut  female   4.0      1   \n",
       "11                           Bonnell, Miss. Elizabeth  female  58.0      0   \n",
       "\n",
       "    Parch    Ticket     Fare Cabin Embarked  \n",
       "1       0  PC 17599  71.2833   C85        C  \n",
       "3       0    113803  53.1000  C123        S  \n",
       "6       0     17463  51.8625   E46        S  \n",
       "10      1   PP 9549  16.7000    G6        S  \n",
       "11      0    113783  26.5500  C103        S  "
      ]
     },
     "execution_count": 4,
     "metadata": {},
     "output_type": "execute_result"
    }
   ],
   "source": [
    "train_data.head()"
   ]
  },
  {
   "cell_type": "code",
   "execution_count": 5,
   "metadata": {},
   "outputs": [
    {
     "data": {
      "text/html": [
       "<div>\n",
       "<style scoped>\n",
       "    .dataframe tbody tr th:only-of-type {\n",
       "        vertical-align: middle;\n",
       "    }\n",
       "\n",
       "    .dataframe tbody tr th {\n",
       "        vertical-align: top;\n",
       "    }\n",
       "\n",
       "    .dataframe thead th {\n",
       "        text-align: right;\n",
       "    }\n",
       "</style>\n",
       "<table border=\"1\" class=\"dataframe\">\n",
       "  <thead>\n",
       "    <tr style=\"text-align: right;\">\n",
       "      <th></th>\n",
       "      <th>PassengerId</th>\n",
       "      <th>Survived</th>\n",
       "      <th>Pclass</th>\n",
       "      <th>Age</th>\n",
       "      <th>SibSp</th>\n",
       "      <th>Parch</th>\n",
       "      <th>Fare</th>\n",
       "    </tr>\n",
       "  </thead>\n",
       "  <tbody>\n",
       "    <tr>\n",
       "      <th>count</th>\n",
       "      <td>183.000000</td>\n",
       "      <td>183.000000</td>\n",
       "      <td>183.000000</td>\n",
       "      <td>183.000000</td>\n",
       "      <td>183.000000</td>\n",
       "      <td>183.000000</td>\n",
       "      <td>183.000000</td>\n",
       "    </tr>\n",
       "    <tr>\n",
       "      <th>mean</th>\n",
       "      <td>455.366120</td>\n",
       "      <td>0.672131</td>\n",
       "      <td>1.191257</td>\n",
       "      <td>35.674426</td>\n",
       "      <td>0.464481</td>\n",
       "      <td>0.475410</td>\n",
       "      <td>78.682469</td>\n",
       "    </tr>\n",
       "    <tr>\n",
       "      <th>std</th>\n",
       "      <td>247.052476</td>\n",
       "      <td>0.470725</td>\n",
       "      <td>0.515187</td>\n",
       "      <td>15.643866</td>\n",
       "      <td>0.644159</td>\n",
       "      <td>0.754617</td>\n",
       "      <td>76.347843</td>\n",
       "    </tr>\n",
       "    <tr>\n",
       "      <th>min</th>\n",
       "      <td>2.000000</td>\n",
       "      <td>0.000000</td>\n",
       "      <td>1.000000</td>\n",
       "      <td>0.920000</td>\n",
       "      <td>0.000000</td>\n",
       "      <td>0.000000</td>\n",
       "      <td>0.000000</td>\n",
       "    </tr>\n",
       "    <tr>\n",
       "      <th>25%</th>\n",
       "      <td>263.500000</td>\n",
       "      <td>0.000000</td>\n",
       "      <td>1.000000</td>\n",
       "      <td>24.000000</td>\n",
       "      <td>0.000000</td>\n",
       "      <td>0.000000</td>\n",
       "      <td>29.700000</td>\n",
       "    </tr>\n",
       "    <tr>\n",
       "      <th>50%</th>\n",
       "      <td>457.000000</td>\n",
       "      <td>1.000000</td>\n",
       "      <td>1.000000</td>\n",
       "      <td>36.000000</td>\n",
       "      <td>0.000000</td>\n",
       "      <td>0.000000</td>\n",
       "      <td>57.000000</td>\n",
       "    </tr>\n",
       "    <tr>\n",
       "      <th>75%</th>\n",
       "      <td>676.000000</td>\n",
       "      <td>1.000000</td>\n",
       "      <td>1.000000</td>\n",
       "      <td>47.500000</td>\n",
       "      <td>1.000000</td>\n",
       "      <td>1.000000</td>\n",
       "      <td>90.000000</td>\n",
       "    </tr>\n",
       "    <tr>\n",
       "      <th>max</th>\n",
       "      <td>890.000000</td>\n",
       "      <td>1.000000</td>\n",
       "      <td>3.000000</td>\n",
       "      <td>80.000000</td>\n",
       "      <td>3.000000</td>\n",
       "      <td>4.000000</td>\n",
       "      <td>512.329200</td>\n",
       "    </tr>\n",
       "  </tbody>\n",
       "</table>\n",
       "</div>"
      ],
      "text/plain": [
       "       PassengerId    Survived      Pclass         Age       SibSp  \\\n",
       "count   183.000000  183.000000  183.000000  183.000000  183.000000   \n",
       "mean    455.366120    0.672131    1.191257   35.674426    0.464481   \n",
       "std     247.052476    0.470725    0.515187   15.643866    0.644159   \n",
       "min       2.000000    0.000000    1.000000    0.920000    0.000000   \n",
       "25%     263.500000    0.000000    1.000000   24.000000    0.000000   \n",
       "50%     457.000000    1.000000    1.000000   36.000000    0.000000   \n",
       "75%     676.000000    1.000000    1.000000   47.500000    1.000000   \n",
       "max     890.000000    1.000000    3.000000   80.000000    3.000000   \n",
       "\n",
       "            Parch        Fare  \n",
       "count  183.000000  183.000000  \n",
       "mean     0.475410   78.682469  \n",
       "std      0.754617   76.347843  \n",
       "min      0.000000    0.000000  \n",
       "25%      0.000000   29.700000  \n",
       "50%      0.000000   57.000000  \n",
       "75%      1.000000   90.000000  \n",
       "max      4.000000  512.329200  "
      ]
     },
     "execution_count": 5,
     "metadata": {},
     "output_type": "execute_result"
    }
   ],
   "source": [
    "train_data.describe()"
   ]
  },
  {
   "cell_type": "code",
   "execution_count": 6,
   "metadata": {},
   "outputs": [
    {
     "data": {
      "text/plain": [
       "pandas.core.series.Series"
      ]
     },
     "execution_count": 6,
     "metadata": {},
     "output_type": "execute_result"
    }
   ],
   "source": [
    "type(train_data['Age'])"
   ]
  },
  {
   "cell_type": "code",
   "execution_count": 7,
   "metadata": {},
   "outputs": [
    {
     "data": {
      "text/plain": [
       "tensor([38.0000, 35.0000, 54.0000,  4.0000, 58.0000, 34.0000, 28.0000, 19.0000,\n",
       "        49.0000, 65.0000, 45.0000, 29.0000, 25.0000, 23.0000, 46.0000, 71.0000,\n",
       "        23.0000, 21.0000, 47.0000, 24.0000, 32.5000, 54.0000, 19.0000, 37.0000,\n",
       "        24.0000, 36.5000, 22.0000, 61.0000, 56.0000, 50.0000,  1.0000,  3.0000,\n",
       "        44.0000, 58.0000,  2.0000, 40.0000, 31.0000, 32.0000, 38.0000, 35.0000,\n",
       "        44.0000, 37.0000, 29.0000, 62.0000, 30.0000, 52.0000, 40.0000, 58.0000,\n",
       "        35.0000, 37.0000, 63.0000, 19.0000, 36.0000,  2.0000, 50.0000,  0.9200,\n",
       "        17.0000, 30.0000, 24.0000, 18.0000, 31.0000, 40.0000, 36.0000, 36.0000,\n",
       "        16.0000, 45.5000, 38.0000, 29.0000, 41.0000, 45.0000,  2.0000, 24.0000,\n",
       "        24.0000, 22.0000, 60.0000, 24.0000, 25.0000, 27.0000, 36.0000, 23.0000,\n",
       "        24.0000, 33.0000, 32.0000, 28.0000, 50.0000, 14.0000, 64.0000,  4.0000,\n",
       "        52.0000, 30.0000, 49.0000, 65.0000, 48.0000, 47.0000, 23.0000, 25.0000,\n",
       "        35.0000, 58.0000, 55.0000, 54.0000, 25.0000, 16.0000, 18.0000, 36.0000,\n",
       "        47.0000, 34.0000, 30.0000, 44.0000, 45.0000, 22.0000, 36.0000, 50.0000,\n",
       "        17.0000, 48.0000, 39.0000, 53.0000, 36.0000, 39.0000, 39.0000, 36.0000,\n",
       "        18.0000, 60.0000, 52.0000, 49.0000, 40.0000,  4.0000, 42.0000, 61.0000,\n",
       "        21.0000, 80.0000, 32.0000, 24.0000, 48.0000, 56.0000, 58.0000, 47.0000,\n",
       "        31.0000, 36.0000, 27.0000, 15.0000, 31.0000, 49.0000, 42.0000, 18.0000,\n",
       "        35.0000, 42.0000, 24.0000, 48.0000, 19.0000, 38.0000, 27.0000, 27.0000,\n",
       "        29.0000, 35.0000, 36.0000, 21.0000, 70.0000, 19.0000,  6.0000, 33.0000,\n",
       "        36.0000, 51.0000, 57.0000, 43.0000, 17.0000, 29.0000, 46.0000, 49.0000,\n",
       "        11.0000, 39.0000, 33.0000, 52.0000, 27.0000, 39.0000, 16.0000, 51.0000,\n",
       "        48.0000, 31.0000, 47.0000, 33.0000, 56.0000, 19.0000, 26.0000],\n",
       "       dtype=torch.float64)"
      ]
     },
     "execution_count": 7,
     "metadata": {},
     "output_type": "execute_result"
    }
   ],
   "source": [
    "torch.tensor(train_data['Age'].values)"
   ]
  },
  {
   "cell_type": "code",
   "execution_count": 8,
   "metadata": {},
   "outputs": [
    {
     "data": {
      "text/plain": [
       "183"
      ]
     },
     "execution_count": 8,
     "metadata": {},
     "output_type": "execute_result"
    }
   ],
   "source": [
    "len(torch.tensor(train_data['Age'].values))"
   ]
  },
  {
   "cell_type": "code",
   "execution_count": 9,
   "metadata": {},
   "outputs": [
    {
     "name": "stdout",
     "output_type": "stream",
     "text": [
      "(183, 12)\n",
      "(87, 11)\n"
     ]
    }
   ],
   "source": [
    "print(train_data.shape)\n",
    "print(test_data.shape)"
   ]
  },
  {
   "cell_type": "code",
   "execution_count": 10,
   "metadata": {},
   "outputs": [
    {
     "name": "stdout",
     "output_type": "stream",
     "text": [
      "Index(['PassengerId', 'Survived', 'Pclass', 'Name', 'Sex', 'Age', 'SibSp',\n",
      "       'Parch', 'Ticket', 'Fare', 'Cabin', 'Embarked'],\n",
      "      dtype='object')\n"
     ]
    }
   ],
   "source": [
    "print(train_data.columns)"
   ]
  },
  {
   "cell_type": "code",
   "execution_count": 11,
   "metadata": {},
   "outputs": [
    {
     "name": "stdout",
     "output_type": "stream",
     "text": [
      "Total rows = 183\n",
      "No of unique:\n",
      "\n",
      "PassengerId = (183,)\n",
      "Survived = (2,)\n",
      "Pclass = (3,)\n",
      "Name = (183,)\n",
      "Sex = (2,)\n",
      "Age = (63,)\n",
      "SibSp = (4,)\n",
      "Parch = (4,)\n",
      "Ticket = (127,)\n",
      "Fare = (93,)\n",
      "Cabin = (133,)\n",
      "Embarked = (3,)\n"
     ]
    }
   ],
   "source": [
    "print(f\"Total rows = {train_data.shape[0]}\")\n",
    "print(\"No of unique:\")\n",
    "print()\n",
    "for column in train_data.columns:\n",
    "\tprint(f\"{column} = {train_data[column].unique().shape}\")"
   ]
  },
  {
   "cell_type": "code",
   "execution_count": 12,
   "metadata": {},
   "outputs": [
    {
     "data": {
      "text/html": [
       "<div>\n",
       "<style scoped>\n",
       "    .dataframe tbody tr th:only-of-type {\n",
       "        vertical-align: middle;\n",
       "    }\n",
       "\n",
       "    .dataframe tbody tr th {\n",
       "        vertical-align: top;\n",
       "    }\n",
       "\n",
       "    .dataframe thead th {\n",
       "        text-align: right;\n",
       "    }\n",
       "</style>\n",
       "<table border=\"1\" class=\"dataframe\">\n",
       "  <thead>\n",
       "    <tr style=\"text-align: right;\">\n",
       "      <th></th>\n",
       "      <th>PassengerId</th>\n",
       "      <th>Survived</th>\n",
       "      <th>Pclass</th>\n",
       "      <th>Name</th>\n",
       "      <th>Sex</th>\n",
       "      <th>Age</th>\n",
       "      <th>SibSp</th>\n",
       "      <th>Parch</th>\n",
       "      <th>Ticket</th>\n",
       "      <th>Fare</th>\n",
       "      <th>Cabin</th>\n",
       "      <th>Embarked</th>\n",
       "    </tr>\n",
       "  </thead>\n",
       "  <tbody>\n",
       "    <tr>\n",
       "      <th>1</th>\n",
       "      <td>2</td>\n",
       "      <td>1</td>\n",
       "      <td>1</td>\n",
       "      <td>Cumings, Mrs. John Bradley (Florence Briggs Th...</td>\n",
       "      <td>0</td>\n",
       "      <td>38.0</td>\n",
       "      <td>1</td>\n",
       "      <td>0</td>\n",
       "      <td>0</td>\n",
       "      <td>71.2833</td>\n",
       "      <td>0</td>\n",
       "      <td>0</td>\n",
       "    </tr>\n",
       "    <tr>\n",
       "      <th>3</th>\n",
       "      <td>4</td>\n",
       "      <td>1</td>\n",
       "      <td>1</td>\n",
       "      <td>Futrelle, Mrs. Jacques Heath (Lily May Peel)</td>\n",
       "      <td>0</td>\n",
       "      <td>35.0</td>\n",
       "      <td>1</td>\n",
       "      <td>0</td>\n",
       "      <td>1</td>\n",
       "      <td>53.1000</td>\n",
       "      <td>1</td>\n",
       "      <td>1</td>\n",
       "    </tr>\n",
       "    <tr>\n",
       "      <th>6</th>\n",
       "      <td>7</td>\n",
       "      <td>0</td>\n",
       "      <td>1</td>\n",
       "      <td>McCarthy, Mr. Timothy J</td>\n",
       "      <td>1</td>\n",
       "      <td>54.0</td>\n",
       "      <td>0</td>\n",
       "      <td>0</td>\n",
       "      <td>2</td>\n",
       "      <td>51.8625</td>\n",
       "      <td>2</td>\n",
       "      <td>1</td>\n",
       "    </tr>\n",
       "    <tr>\n",
       "      <th>10</th>\n",
       "      <td>11</td>\n",
       "      <td>1</td>\n",
       "      <td>3</td>\n",
       "      <td>Sandstrom, Miss. Marguerite Rut</td>\n",
       "      <td>0</td>\n",
       "      <td>4.0</td>\n",
       "      <td>1</td>\n",
       "      <td>1</td>\n",
       "      <td>3</td>\n",
       "      <td>16.7000</td>\n",
       "      <td>3</td>\n",
       "      <td>1</td>\n",
       "    </tr>\n",
       "    <tr>\n",
       "      <th>11</th>\n",
       "      <td>12</td>\n",
       "      <td>1</td>\n",
       "      <td>1</td>\n",
       "      <td>Bonnell, Miss. Elizabeth</td>\n",
       "      <td>0</td>\n",
       "      <td>58.0</td>\n",
       "      <td>0</td>\n",
       "      <td>0</td>\n",
       "      <td>4</td>\n",
       "      <td>26.5500</td>\n",
       "      <td>4</td>\n",
       "      <td>1</td>\n",
       "    </tr>\n",
       "  </tbody>\n",
       "</table>\n",
       "</div>"
      ],
      "text/plain": [
       "    PassengerId  Survived  Pclass  \\\n",
       "1             2         1       1   \n",
       "3             4         1       1   \n",
       "6             7         0       1   \n",
       "10           11         1       3   \n",
       "11           12         1       1   \n",
       "\n",
       "                                                 Name  Sex   Age  SibSp  \\\n",
       "1   Cumings, Mrs. John Bradley (Florence Briggs Th...    0  38.0      1   \n",
       "3        Futrelle, Mrs. Jacques Heath (Lily May Peel)    0  35.0      1   \n",
       "6                             McCarthy, Mr. Timothy J    1  54.0      0   \n",
       "10                    Sandstrom, Miss. Marguerite Rut    0   4.0      1   \n",
       "11                           Bonnell, Miss. Elizabeth    0  58.0      0   \n",
       "\n",
       "    Parch  Ticket     Fare  Cabin  Embarked  \n",
       "1       0       0  71.2833      0         0  \n",
       "3       0       1  53.1000      1         1  \n",
       "6       0       2  51.8625      2         1  \n",
       "10      1       3  16.7000      3         1  \n",
       "11      0       4  26.5500      4         1  "
      ]
     },
     "execution_count": 12,
     "metadata": {},
     "output_type": "execute_result"
    }
   ],
   "source": [
    "sexdict = {}\n",
    "ticketdict = {}\n",
    "cabindict = {}\n",
    "embarkeddict = {}\n",
    "\n",
    "for i,item in enumerate(train_data['Sex'].unique()):\n",
    "    sexdict[item] = i\n",
    "for i,item in enumerate(train_data['Ticket'].unique()):\n",
    "    ticketdict[item] = i\n",
    "for i,item in enumerate(train_data['Cabin'].unique()):\n",
    "    cabindict[item] = i\n",
    "for i,item in enumerate(train_data['Embarked'].unique()):\n",
    "    embarkeddict[item] = i\n",
    "train_data['Sex'] = train_data['Sex'].replace(sexdict)\n",
    "train_data['Ticket'] = train_data['Ticket'].replace(ticketdict)\n",
    "train_data['Cabin'] = train_data['Cabin'].replace(cabindict)\n",
    "train_data['Embarked'] = train_data['Embarked'].replace(embarkeddict)\n",
    "train_data.head()"
   ]
  },
  {
   "cell_type": "code",
   "execution_count": 13,
   "metadata": {},
   "outputs": [
    {
     "data": {
      "text/plain": [
       "{'C': 0, 'S': 1, 'Q': 2}"
      ]
     },
     "execution_count": 13,
     "metadata": {},
     "output_type": "execute_result"
    }
   ],
   "source": [
    "embarkeddict"
   ]
  },
  {
   "cell_type": "code",
   "execution_count": 14,
   "metadata": {},
   "outputs": [
    {
     "data": {
      "text/plain": [
       "tensor([[  1.0000,   0.0000,  38.0000,  ...,  71.2833,   0.0000,   0.0000],\n",
       "        [  1.0000,   0.0000,  35.0000,  ...,  53.1000,   1.0000,   1.0000],\n",
       "        [  1.0000,   1.0000,  54.0000,  ...,  51.8625,   2.0000,   1.0000],\n",
       "        ...,\n",
       "        [  1.0000,   0.0000,  56.0000,  ...,  83.1583, 130.0000,   0.0000],\n",
       "        [  1.0000,   0.0000,  19.0000,  ...,  30.0000, 131.0000,   1.0000],\n",
       "        [  1.0000,   1.0000,  26.0000,  ...,  30.0000, 132.0000,   0.0000]],\n",
       "       dtype=torch.float64)"
      ]
     },
     "execution_count": 14,
     "metadata": {},
     "output_type": "execute_result"
    }
   ],
   "source": [
    "torch.tensor(train_data[['Pclass','Sex','Age','SibSp','Parch','Ticket','Fare','Cabin','Embarked']].values)"
   ]
  },
  {
   "cell_type": "code",
   "execution_count": 15,
   "metadata": {},
   "outputs": [],
   "source": [
    "# Train Val Split\n",
    "# mask = np.random.choice([0,1],size=len(train_data),p=[0.3,0.7])\n",
    "# print(mask.sum()/len(train_data))\n",
    "# train_df = train_data[mask]\n",
    "# val_df = train_data[~mask]\n",
    "# print(len(train_df))\n",
    "# print(len(val_df))"
   ]
  },
  {
   "cell_type": "code",
   "execution_count": 16,
   "metadata": {},
   "outputs": [
    {
     "name": "stdout",
     "output_type": "stream",
     "text": [
      "128\n",
      "55\n",
      "183\n"
     ]
    },
    {
     "data": {
      "text/html": [
       "<div>\n",
       "<style scoped>\n",
       "    .dataframe tbody tr th:only-of-type {\n",
       "        vertical-align: middle;\n",
       "    }\n",
       "\n",
       "    .dataframe tbody tr th {\n",
       "        vertical-align: top;\n",
       "    }\n",
       "\n",
       "    .dataframe thead th {\n",
       "        text-align: right;\n",
       "    }\n",
       "</style>\n",
       "<table border=\"1\" class=\"dataframe\">\n",
       "  <thead>\n",
       "    <tr style=\"text-align: right;\">\n",
       "      <th></th>\n",
       "      <th>PassengerId</th>\n",
       "      <th>Survived</th>\n",
       "      <th>Pclass</th>\n",
       "      <th>Name</th>\n",
       "      <th>Sex</th>\n",
       "      <th>Age</th>\n",
       "      <th>SibSp</th>\n",
       "      <th>Parch</th>\n",
       "      <th>Ticket</th>\n",
       "      <th>Fare</th>\n",
       "      <th>Cabin</th>\n",
       "      <th>Embarked</th>\n",
       "    </tr>\n",
       "  </thead>\n",
       "  <tbody>\n",
       "    <tr>\n",
       "      <th>737</th>\n",
       "      <td>738</td>\n",
       "      <td>1</td>\n",
       "      <td>1</td>\n",
       "      <td>Lesurer, Mr. Gustave J</td>\n",
       "      <td>1</td>\n",
       "      <td>35.0</td>\n",
       "      <td>0</td>\n",
       "      <td>0</td>\n",
       "      <td>100</td>\n",
       "      <td>512.3292</td>\n",
       "      <td>114</td>\n",
       "      <td>0</td>\n",
       "    </tr>\n",
       "    <tr>\n",
       "      <th>110</th>\n",
       "      <td>111</td>\n",
       "      <td>0</td>\n",
       "      <td>1</td>\n",
       "      <td>Porter, Mr. Walter Chamberlain</td>\n",
       "      <td>1</td>\n",
       "      <td>47.0</td>\n",
       "      <td>0</td>\n",
       "      <td>0</td>\n",
       "      <td>17</td>\n",
       "      <td>52.0000</td>\n",
       "      <td>17</td>\n",
       "      <td>1</td>\n",
       "    </tr>\n",
       "    <tr>\n",
       "      <th>195</th>\n",
       "      <td>196</td>\n",
       "      <td>1</td>\n",
       "      <td>1</td>\n",
       "      <td>Lurette, Miss. Elise</td>\n",
       "      <td>0</td>\n",
       "      <td>58.0</td>\n",
       "      <td>0</td>\n",
       "      <td>0</td>\n",
       "      <td>29</td>\n",
       "      <td>146.5208</td>\n",
       "      <td>29</td>\n",
       "      <td>0</td>\n",
       "    </tr>\n",
       "    <tr>\n",
       "      <th>438</th>\n",
       "      <td>439</td>\n",
       "      <td>0</td>\n",
       "      <td>1</td>\n",
       "      <td>Fortune, Mr. Mark</td>\n",
       "      <td>1</td>\n",
       "      <td>64.0</td>\n",
       "      <td>1</td>\n",
       "      <td>4</td>\n",
       "      <td>7</td>\n",
       "      <td>263.0000</td>\n",
       "      <td>7</td>\n",
       "      <td>1</td>\n",
       "    </tr>\n",
       "    <tr>\n",
       "      <th>52</th>\n",
       "      <td>53</td>\n",
       "      <td>1</td>\n",
       "      <td>1</td>\n",
       "      <td>Harper, Mrs. Henry Sleeper (Myna Haxtun)</td>\n",
       "      <td>0</td>\n",
       "      <td>49.0</td>\n",
       "      <td>1</td>\n",
       "      <td>0</td>\n",
       "      <td>8</td>\n",
       "      <td>76.7292</td>\n",
       "      <td>8</td>\n",
       "      <td>0</td>\n",
       "    </tr>\n",
       "    <tr>\n",
       "      <th>...</th>\n",
       "      <td>...</td>\n",
       "      <td>...</td>\n",
       "      <td>...</td>\n",
       "      <td>...</td>\n",
       "      <td>...</td>\n",
       "      <td>...</td>\n",
       "      <td>...</td>\n",
       "      <td>...</td>\n",
       "      <td>...</td>\n",
       "      <td>...</td>\n",
       "      <td>...</td>\n",
       "      <td>...</td>\n",
       "    </tr>\n",
       "    <tr>\n",
       "      <th>645</th>\n",
       "      <td>646</td>\n",
       "      <td>1</td>\n",
       "      <td>1</td>\n",
       "      <td>Harper, Mr. Henry Sleeper</td>\n",
       "      <td>1</td>\n",
       "      <td>48.0</td>\n",
       "      <td>1</td>\n",
       "      <td>0</td>\n",
       "      <td>8</td>\n",
       "      <td>76.7292</td>\n",
       "      <td>8</td>\n",
       "      <td>0</td>\n",
       "    </tr>\n",
       "    <tr>\n",
       "      <th>763</th>\n",
       "      <td>764</td>\n",
       "      <td>1</td>\n",
       "      <td>1</td>\n",
       "      <td>Carter, Mrs. William Ernest (Lucile Polk)</td>\n",
       "      <td>0</td>\n",
       "      <td>36.0</td>\n",
       "      <td>1</td>\n",
       "      <td>2</td>\n",
       "      <td>64</td>\n",
       "      <td>120.0000</td>\n",
       "      <td>64</td>\n",
       "      <td>1</td>\n",
       "    </tr>\n",
       "    <tr>\n",
       "      <th>251</th>\n",
       "      <td>252</td>\n",
       "      <td>0</td>\n",
       "      <td>3</td>\n",
       "      <td>Strom, Mrs. Wilhelm (Elna Matilda Persson)</td>\n",
       "      <td>0</td>\n",
       "      <td>29.0</td>\n",
       "      <td>1</td>\n",
       "      <td>1</td>\n",
       "      <td>30</td>\n",
       "      <td>10.4625</td>\n",
       "      <td>3</td>\n",
       "      <td>1</td>\n",
       "    </tr>\n",
       "    <tr>\n",
       "      <th>621</th>\n",
       "      <td>622</td>\n",
       "      <td>1</td>\n",
       "      <td>1</td>\n",
       "      <td>Kimball, Mr. Edwin Nelson Jr</td>\n",
       "      <td>1</td>\n",
       "      <td>42.0</td>\n",
       "      <td>1</td>\n",
       "      <td>0</td>\n",
       "      <td>93</td>\n",
       "      <td>52.5542</td>\n",
       "      <td>94</td>\n",
       "      <td>1</td>\n",
       "    </tr>\n",
       "    <tr>\n",
       "      <th>297</th>\n",
       "      <td>298</td>\n",
       "      <td>0</td>\n",
       "      <td>1</td>\n",
       "      <td>Allison, Miss. Helen Loraine</td>\n",
       "      <td>0</td>\n",
       "      <td>2.0</td>\n",
       "      <td>1</td>\n",
       "      <td>2</td>\n",
       "      <td>47</td>\n",
       "      <td>151.5500</td>\n",
       "      <td>46</td>\n",
       "      <td>1</td>\n",
       "    </tr>\n",
       "  </tbody>\n",
       "</table>\n",
       "<p>128 rows × 12 columns</p>\n",
       "</div>"
      ],
      "text/plain": [
       "     PassengerId  Survived  Pclass  \\\n",
       "737          738         1       1   \n",
       "110          111         0       1   \n",
       "195          196         1       1   \n",
       "438          439         0       1   \n",
       "52            53         1       1   \n",
       "..           ...       ...     ...   \n",
       "645          646         1       1   \n",
       "763          764         1       1   \n",
       "251          252         0       3   \n",
       "621          622         1       1   \n",
       "297          298         0       1   \n",
       "\n",
       "                                           Name  Sex   Age  SibSp  Parch  \\\n",
       "737                      Lesurer, Mr. Gustave J    1  35.0      0      0   \n",
       "110              Porter, Mr. Walter Chamberlain    1  47.0      0      0   \n",
       "195                        Lurette, Miss. Elise    0  58.0      0      0   \n",
       "438                           Fortune, Mr. Mark    1  64.0      1      4   \n",
       "52     Harper, Mrs. Henry Sleeper (Myna Haxtun)    0  49.0      1      0   \n",
       "..                                          ...  ...   ...    ...    ...   \n",
       "645                   Harper, Mr. Henry Sleeper    1  48.0      1      0   \n",
       "763   Carter, Mrs. William Ernest (Lucile Polk)    0  36.0      1      2   \n",
       "251  Strom, Mrs. Wilhelm (Elna Matilda Persson)    0  29.0      1      1   \n",
       "621                Kimball, Mr. Edwin Nelson Jr    1  42.0      1      0   \n",
       "297                Allison, Miss. Helen Loraine    0   2.0      1      2   \n",
       "\n",
       "     Ticket      Fare  Cabin  Embarked  \n",
       "737     100  512.3292    114         0  \n",
       "110      17   52.0000     17         1  \n",
       "195      29  146.5208     29         0  \n",
       "438       7  263.0000      7         1  \n",
       "52        8   76.7292      8         0  \n",
       "..      ...       ...    ...       ...  \n",
       "645       8   76.7292      8         0  \n",
       "763      64  120.0000     64         1  \n",
       "251      30   10.4625      3         1  \n",
       "621      93   52.5542     94         1  \n",
       "297      47  151.5500     46         1  \n",
       "\n",
       "[128 rows x 12 columns]"
      ]
     },
     "execution_count": 16,
     "metadata": {},
     "output_type": "execute_result"
    }
   ],
   "source": [
    "train_df = train_data.sample(frac=0.7)\n",
    "val_df = train_data.drop(train_df.index)\n",
    "print(len(train_df))\n",
    "print(len(val_df))\n",
    "print(len(train_data))\n",
    "train_df"
   ]
  },
  {
   "cell_type": "code",
   "execution_count": 42,
   "metadata": {},
   "outputs": [],
   "source": [
    "class Dataset():\n",
    "    def __init__(self, df):\n",
    "        self.x = torch.tensor(df[['Pclass','Sex','Age','SibSp','Parch','Ticket','Fare','Cabin','Embarked']].values,dtype=float)\n",
    "        self.y = torch.tensor(df['Survived'].values,dtype=int)\n",
    "    def __len__(self): return len(self.y)\n",
    "    def __getitem__(self, i): return self.x[i],self.y[i]"
   ]
  },
  {
   "cell_type": "code",
   "execution_count": 43,
   "metadata": {},
   "outputs": [],
   "source": [
    "train_ds,val_ds = Dataset(train_df),Dataset(val_df)\n",
    "assert len(train_ds)==len(train_df)\n",
    "assert len(val_ds)==len(val_df)"
   ]
  },
  {
   "cell_type": "code",
   "execution_count": 44,
   "metadata": {},
   "outputs": [
    {
     "name": "stdout",
     "output_type": "stream",
     "text": [
      "torch.Size([5, 9])\n",
      "torch.Size([5])\n"
     ]
    },
    {
     "data": {
      "text/plain": [
       "(tensor([[  1.0000,   1.0000,  35.0000,   0.0000,   0.0000, 100.0000, 512.3292,\n",
       "          114.0000,   0.0000],\n",
       "         [  1.0000,   1.0000,  47.0000,   0.0000,   0.0000,  17.0000,  52.0000,\n",
       "           17.0000,   1.0000],\n",
       "         [  1.0000,   0.0000,  58.0000,   0.0000,   0.0000,  29.0000, 146.5208,\n",
       "           29.0000,   0.0000],\n",
       "         [  1.0000,   1.0000,  64.0000,   1.0000,   4.0000,   7.0000, 263.0000,\n",
       "            7.0000,   1.0000],\n",
       "         [  1.0000,   0.0000,  49.0000,   1.0000,   0.0000,   8.0000,  76.7292,\n",
       "            8.0000,   0.0000]], dtype=torch.float64),\n",
       " tensor([1, 0, 1, 0, 1]))"
      ]
     },
     "execution_count": 44,
     "metadata": {},
     "output_type": "execute_result"
    }
   ],
   "source": [
    "xb,yb = train_ds[0:5]\n",
    "print(xb.shape)\n",
    "print(yb.shape)\n",
    "xb,yb"
   ]
  },
  {
   "cell_type": "code",
   "execution_count": 204,
   "metadata": {},
   "outputs": [],
   "source": [
    "class Linear(nn.Module):\n",
    "    def __init__(self, n_in, n_out, p, q):\n",
    "        super().__init__()\n",
    "        self.w1 = torch.randn(n_in,n_out,dtype=float).requires_grad_()\n",
    "        self.w2 = torch.randn(p,q,dtype=float).requires_grad_()\n",
    "        self.b = torch.zeros(n_out,dtype=float).requires_grad_()\n",
    "    def forward(self, inp):\n",
    "        # import pdb\n",
    "        # pdb.set_trace()\n",
    "        return torch.einsum('ab,bc,pq->acpq', (inp, self.w1, self.w2)) + self.b[None,:,None,None]\n",
    "    def parameters(self):\n",
    "        return (self.w1,self.w2)"
   ]
  },
  {
   "cell_type": "code",
   "execution_count": 174,
   "metadata": {},
   "outputs": [
    {
     "name": "stdout",
     "output_type": "stream",
     "text": [
      "torch.Size([50, 5, 2, 3])\n",
      "tensor([[[[ -807.3372, -1557.0498,  -560.8619],\n",
      "          [ 2460.8797,  1617.9540,  1459.7673]],\n",
      "\n",
      "         [[ -354.8595,  -684.3905,  -246.5230],\n",
      "          [ 1081.6628,   711.1606,   641.6307]],\n",
      "\n",
      "         [[ -317.8087,  -612.9335,  -220.7836],\n",
      "          [  968.7267,   636.9085,   574.6382]],\n",
      "\n",
      "         [[  -72.2177,  -139.2808,   -50.1701],\n",
      "          [  220.1299,   144.7288,   130.5787]],\n",
      "\n",
      "         [[  186.1845,   359.0800,   129.3435],\n",
      "          [ -567.5172,  -373.1254,  -336.6451]]],\n",
      "\n",
      "\n",
      "        [[[ -116.1953,  -224.0969,   -80.7215],\n",
      "          [  354.1798,   232.8625,   210.0956]],\n",
      "\n",
      "         [[  -69.6199,  -134.2707,   -48.3654],\n",
      "          [  212.2116,   139.5227,   125.8816]],\n",
      "\n",
      "         [[   24.2524,    46.7738,    16.8483],\n",
      "          [  -73.9249,   -48.6034,   -43.8515]],\n",
      "\n",
      "         [[  -14.0317,   -27.0618,    -9.7479],\n",
      "          [   42.7705,    28.1203,    25.3710]],\n",
      "\n",
      "         [[   49.3798,    95.2351,    34.3045],\n",
      "          [ -150.5168,   -98.9603,   -89.2849]]],\n",
      "\n",
      "\n",
      "        [[[ -258.6684,  -498.8741,  -179.6985],\n",
      "          [  788.4585,   518.3876,   467.7050]],\n",
      "\n",
      "         [[ -140.4666,  -270.9072,   -97.5830],\n",
      "          [  428.1623,   281.5038,   253.9813]],\n",
      "\n",
      "         [[  -36.1742,   -69.7665,   -25.1305],\n",
      "          [  110.2643,    72.4954,    65.4076]],\n",
      "\n",
      "         [[  -32.8801,   -63.4133,   -22.8420],\n",
      "          [  100.2231,    65.8937,    59.4513]],\n",
      "\n",
      "         [[   97.1993,   187.4608,    67.5249],\n",
      "          [ -296.2774,  -194.7934,  -175.7485]]],\n",
      "\n",
      "\n",
      "        ...,\n",
      "\n",
      "\n",
      "        [[[  -90.7201,  -174.9650,   -63.0238],\n",
      "          [  276.5280,   181.8088,   164.0334]],\n",
      "\n",
      "         [[  -46.9650,   -90.5777,   -32.6268],\n",
      "          [  143.1559,    94.1207,    84.9186]],\n",
      "\n",
      "         [[   55.8494,   107.7126,    38.7989],\n",
      "          [ -170.2371,  -111.9258,  -100.9828]],\n",
      "\n",
      "         [[   -7.0883,   -13.6707,    -4.9243],\n",
      "          [   21.6062,    14.2054,    12.8166]],\n",
      "\n",
      "         [[   29.3066,    56.5214,    20.3595],\n",
      "          [  -89.3308,   -58.7323,   -52.9900]]],\n",
      "\n",
      "\n",
      "        [[[ -152.4649,  -294.0475,  -105.9183],\n",
      "          [  464.7350,   305.5492,   275.6758]],\n",
      "\n",
      "         [[  -19.6937,   -37.9817,   -13.6813],\n",
      "          [   60.0291,    39.4673,    35.6086]],\n",
      "\n",
      "         [[  112.2646,   216.5162,    77.9909],\n",
      "          [ -342.1987,  -224.9853,  -202.9886]],\n",
      "\n",
      "         [[   10.6999,    20.6360,     7.4333],\n",
      "          [  -32.6147,   -21.4432,   -19.3467]],\n",
      "\n",
      "         [[  -33.5901,   -64.7827,   -23.3352],\n",
      "          [  102.3875,    67.3167,    60.7351]]],\n",
      "\n",
      "\n",
      "        [[[  -75.1850,  -145.0036,   -52.2315],\n",
      "          [  229.1747,   150.6755,   135.9440]],\n",
      "\n",
      "         [[    5.3345,    10.2883,     3.7059],\n",
      "          [  -16.2604,   -10.6907,    -9.6455]],\n",
      "\n",
      "         [[   97.6444,   188.3193,    67.8341],\n",
      "          [ -297.6340,  -195.6854,  -176.5533]],\n",
      "\n",
      "         [[  -88.7751,  -171.2137,   -61.6726],\n",
      "          [  270.5991,   177.9107,   160.5165]],\n",
      "\n",
      "         [[   29.2794,    56.4689,    20.3406],\n",
      "          [  -89.2478,   -58.6777,   -52.9408]]]], dtype=torch.float64,\n",
      "       grad_fn=<AddBackward0>)\n"
     ]
    }
   ],
   "source": [
    "fwd = Linear(9,5,2,3)\n",
    "op = fwd(xb)\n",
    "print(op.shape)\n",
    "print(op)"
   ]
  },
  {
   "cell_type": "code",
   "execution_count": 175,
   "metadata": {},
   "outputs": [
    {
     "data": {
      "text/plain": [
       "tensor([0., 0., 0., 0., 0.], dtype=torch.float64, requires_grad=True)"
      ]
     },
     "execution_count": 175,
     "metadata": {},
     "output_type": "execute_result"
    }
   ],
   "source": [
    "fwd.b"
   ]
  },
  {
   "cell_type": "code",
   "execution_count": 176,
   "metadata": {},
   "outputs": [
    {
     "data": {
      "text/plain": [
       "tensor([[ 2.6134e+03,  1.1487e+03,  1.0287e+03,  2.3377e+02, -6.0268e+02],\n",
       "        [ 3.7612e+02,  2.2536e+02, -7.8505e+01,  4.5420e+01, -1.5984e+02],\n",
       "        [ 8.3731e+02,  4.5469e+02,  1.1710e+02,  1.0643e+02, -3.1463e+02],\n",
       "        [ 1.2879e+03,  7.5300e+02,  5.2141e+02,  2.0688e+02, -5.7310e+02],\n",
       "        [ 4.5709e+02,  2.9337e+02,  1.4318e+01,  6.7287e+01, -2.3128e+02],\n",
       "        [ 4.5938e+02,  1.0060e+02, -3.7026e+02, -1.0657e+01,  4.1076e+01],\n",
       "        [ 1.2078e+03,  6.4029e+02,  6.7454e+02,  1.7795e+02, -4.5777e+02],\n",
       "        [ 1.2219e+03,  6.7028e+02,  4.8550e+02,  1.7836e+02, -4.8082e+02],\n",
       "        [ 3.9497e+02,  7.6673e+01, -2.7265e+02, -1.3427e+01,  4.9813e+01],\n",
       "        [ 4.7666e+02,  1.4999e+02, -3.9051e+02,  1.3096e+00, -1.6934e+01],\n",
       "        [ 8.2346e+02,  2.9046e+02, -1.6655e+02,  3.8170e+01, -8.9236e+01],\n",
       "        [ 9.0198e+02,  4.5796e+02,  1.0358e+02,  1.1090e+02, -3.0240e+02],\n",
       "        [ 4.2385e+02, -1.9710e+01, -5.0061e+02,  1.6675e+01,  1.4618e+02],\n",
       "        [ 3.8699e+02,  2.5938e+02,  6.6482e+01,  6.3503e+01, -2.1255e+02],\n",
       "        [ 3.4615e+02,  2.1463e+02, -2.0975e+02,  3.5721e+01, -1.5184e+02],\n",
       "        [ 6.0301e+02,  8.1232e+01, -5.3364e+02, -6.1409e+01,  1.4024e+02],\n",
       "        [ 4.5217e+02,  1.6026e+02, -1.1165e+02,  2.5375e+01, -5.5031e+01],\n",
       "        [ 3.0026e+02,  3.9483e+01, -3.2369e+02, -1.8408e+01,  6.2211e+01],\n",
       "        [ 7.4565e+02,  2.5067e+02, -3.0644e+02,  2.0878e+01, -6.0628e+01],\n",
       "        [ 1.8802e+02,  4.0767e+01, -8.0242e+00,  5.0655e+00,  9.4652e+00],\n",
       "        [ 4.5057e+02,  1.4140e+02, -3.3839e+02,  6.0484e-01, -1.4615e+01],\n",
       "        [ 2.6835e+02,  8.0915e+01, -2.5956e+02,  2.2452e-01, -5.0354e+00],\n",
       "        [ 4.2778e+02,  2.1380e+02,  9.7739e+01,  5.2919e+01, -1.3596e+02],\n",
       "        [ 5.7898e+02,  7.6638e+01, -5.1179e+02, -5.3847e+01,  1.2801e+02],\n",
       "        [ 1.3276e+03,  5.9372e+02,  5.2700e+02,  1.5398e+02, -3.5108e+02],\n",
       "        [ 5.4819e+02,  2.3587e+02,  1.8747e+01,  5.2544e+01, -1.2613e+02],\n",
       "        [ 5.5361e+02,  3.4881e+01, -4.2124e+02, -5.9337e+01,  1.7598e+02],\n",
       "        [ 5.5434e+02,  1.4595e+02, -4.5323e+02, -1.3489e+01,  2.1571e+01],\n",
       "        [ 4.4200e+02,  2.9633e+01, -4.9748e+02, -5.2788e+01,  1.3938e+02],\n",
       "        [ 5.5595e+02,  2.0210e+02, -1.4558e+01,  3.8883e+01, -7.7260e+01],\n",
       "        [ 5.2184e+02,  1.0052e+02, -3.2836e+02, -1.2213e+01,  6.2086e+01],\n",
       "        [ 6.8304e+02,  2.4399e+02, -2.3690e+02,  2.9622e+01, -8.1458e+01],\n",
       "        [ 7.8223e+02,  3.5555e+02,  1.3268e+02,  8.4395e+01, -2.0626e+02],\n",
       "        [ 5.5929e+02, -1.8060e+00, -4.1481e+02, -7.0923e+01,  2.2153e+02],\n",
       "        [ 8.3149e+02,  3.6000e+02,  5.7338e+01,  6.0297e+01, -1.8062e+02],\n",
       "        [ 1.3895e+02,  8.7402e+01, -1.1659e+02,  1.7586e+01, -6.8499e+01],\n",
       "        [ 5.2986e+02,  7.0546e+01, -4.4393e+02, -4.1684e+01,  1.1681e+02],\n",
       "        [ 7.0932e+02,  2.6446e+02, -3.3805e+02,  2.9449e+01, -9.3234e+01],\n",
       "        [ 3.3965e+02,  2.5438e+02, -2.1450e+02,  4.6848e+01, -2.0592e+02],\n",
       "        [ 1.1718e+03,  6.0252e+02,  5.8153e+02,  1.6299e+02, -4.0503e+02],\n",
       "        [ 1.2549e+03,  4.1666e+02,  2.2494e+02,  7.0893e+01, -1.1746e+02],\n",
       "        [ 5.9123e+02,  7.3102e+01, -3.1470e+02, -3.4160e+01,  1.2420e+02],\n",
       "        [ 6.4887e+02,  2.4229e+02,  9.4803e+01,  5.0728e+01, -1.0194e+02],\n",
       "        [ 2.6949e+02,  1.7467e+01, -2.6436e+02,  8.5116e+01,  6.2702e+00],\n",
       "        [ 4.2266e+02,  2.0369e+02,  1.1543e+01,  3.9542e+01, -1.1840e+02],\n",
       "        [ 6.5402e+02,  2.4654e+02,  8.9914e+01,  4.8504e+01, -9.8669e+01],\n",
       "        [ 8.3042e+01, -5.2264e+00, -4.4885e+01,  9.5835e+01, -3.5623e+01],\n",
       "        [ 2.9366e+02,  1.5203e+02, -1.8078e+02,  2.2945e+01, -9.4866e+01],\n",
       "        [ 4.9353e+02,  6.3748e+01, -3.6340e+02, -3.4635e+01,  1.0873e+02],\n",
       "        [ 2.4337e+02, -1.7268e+01, -3.1608e+02,  2.8737e+02, -9.4777e+01]],\n",
       "       dtype=torch.float64, grad_fn=<SumBackward1>)"
      ]
     },
     "execution_count": 176,
     "metadata": {},
     "output_type": "execute_result"
    }
   ],
   "source": [
    "temp = torch.einsum('abcd->ab',op)\n",
    "temp"
   ]
  },
  {
   "cell_type": "code",
   "execution_count": 177,
   "metadata": {},
   "outputs": [],
   "source": [
    "class ReLU_Sum(nn.Module):\n",
    "    def __init__(self,clamp=1):\n",
    "        super().__init__()\n",
    "        self.clamp = clamp\n",
    "    def forward(self,inp):\n",
    "        if self.clamp:\n",
    "            # return torch.einsum('abcd->ab',inp).clamp(min=0)/(inp.shape[2]*inp.shape[3])\n",
    "            # return torch.einsum('abcd->ab',inp).clamp(min=0)\n",
    "            return torch.mean(inp,dim=[2,3]).clamp(min=0)\n",
    "        else:\n",
    "            # return torch.einsum('abcd->ab',inp)/(inp.shape[2]*inp.shape[3])\n",
    "            # return torch.einsum('abcd->ab',inp)\n",
    "            return torch.mean(inp,dim=[2,3])"
   ]
  },
  {
   "cell_type": "code",
   "execution_count": 178,
   "metadata": {},
   "outputs": [
    {
     "data": {
      "text/plain": [
       "(tensor([[4.3556e+02, 1.9145e+02, 1.7146e+02, 3.8961e+01, 0.0000e+00],\n",
       "         [6.2687e+01, 3.7560e+01, 0.0000e+00, 7.5701e+00, 0.0000e+00],\n",
       "         [1.3955e+02, 7.5782e+01, 1.9516e+01, 1.7739e+01, 0.0000e+00],\n",
       "         [2.1465e+02, 1.2550e+02, 8.6902e+01, 3.4480e+01, 0.0000e+00],\n",
       "         [7.6182e+01, 4.8895e+01, 2.3863e+00, 1.1214e+01, 0.0000e+00],\n",
       "         [7.6563e+01, 1.6766e+01, 0.0000e+00, 0.0000e+00, 6.8460e+00],\n",
       "         [2.0131e+02, 1.0672e+02, 1.1242e+02, 2.9658e+01, 0.0000e+00],\n",
       "         [2.0365e+02, 1.1171e+02, 8.0917e+01, 2.9727e+01, 0.0000e+00],\n",
       "         [6.5828e+01, 1.2779e+01, 0.0000e+00, 0.0000e+00, 8.3021e+00],\n",
       "         [7.9444e+01, 2.4999e+01, 0.0000e+00, 2.1827e-01, 0.0000e+00],\n",
       "         [1.3724e+02, 4.8409e+01, 0.0000e+00, 6.3617e+00, 0.0000e+00],\n",
       "         [1.5033e+02, 7.6327e+01, 1.7264e+01, 1.8483e+01, 0.0000e+00],\n",
       "         [7.0642e+01, 0.0000e+00, 0.0000e+00, 2.7791e+00, 2.4363e+01],\n",
       "         [6.4498e+01, 4.3230e+01, 1.1080e+01, 1.0584e+01, 0.0000e+00],\n",
       "         [5.7692e+01, 3.5771e+01, 0.0000e+00, 5.9536e+00, 0.0000e+00],\n",
       "         [1.0050e+02, 1.3539e+01, 0.0000e+00, 0.0000e+00, 2.3373e+01],\n",
       "         [7.5361e+01, 2.6710e+01, 0.0000e+00, 4.2292e+00, 0.0000e+00],\n",
       "         [5.0044e+01, 6.5806e+00, 0.0000e+00, 0.0000e+00, 1.0368e+01],\n",
       "         [1.2427e+02, 4.1778e+01, 0.0000e+00, 3.4796e+00, 0.0000e+00],\n",
       "         [3.1336e+01, 6.7945e+00, 0.0000e+00, 8.4425e-01, 1.5775e+00],\n",
       "         [7.5095e+01, 2.3567e+01, 0.0000e+00, 1.0081e-01, 0.0000e+00],\n",
       "         [4.4725e+01, 1.3486e+01, 0.0000e+00, 3.7419e-02, 0.0000e+00],\n",
       "         [7.1296e+01, 3.5634e+01, 1.6290e+01, 8.8199e+00, 0.0000e+00],\n",
       "         [9.6496e+01, 1.2773e+01, 0.0000e+00, 0.0000e+00, 2.1336e+01],\n",
       "         [2.2127e+02, 9.8953e+01, 8.7833e+01, 2.5664e+01, 0.0000e+00],\n",
       "         [9.1365e+01, 3.9312e+01, 3.1246e+00, 8.7574e+00, 0.0000e+00],\n",
       "         [9.2268e+01, 5.8134e+00, 0.0000e+00, 0.0000e+00, 2.9331e+01],\n",
       "         [9.2390e+01, 2.4324e+01, 0.0000e+00, 0.0000e+00, 3.5951e+00],\n",
       "         [7.3666e+01, 4.9388e+00, 0.0000e+00, 0.0000e+00, 2.3230e+01],\n",
       "         [9.2658e+01, 3.3683e+01, 0.0000e+00, 6.4805e+00, 0.0000e+00],\n",
       "         [8.6973e+01, 1.6753e+01, 0.0000e+00, 0.0000e+00, 1.0348e+01],\n",
       "         [1.1384e+02, 4.0664e+01, 0.0000e+00, 4.9369e+00, 0.0000e+00],\n",
       "         [1.3037e+02, 5.9259e+01, 2.2113e+01, 1.4066e+01, 0.0000e+00],\n",
       "         [9.3214e+01, 0.0000e+00, 0.0000e+00, 0.0000e+00, 3.6922e+01],\n",
       "         [1.3858e+02, 6.0000e+01, 9.5563e+00, 1.0050e+01, 0.0000e+00],\n",
       "         [2.3158e+01, 1.4567e+01, 0.0000e+00, 2.9310e+00, 0.0000e+00],\n",
       "         [8.8309e+01, 1.1758e+01, 0.0000e+00, 0.0000e+00, 1.9469e+01],\n",
       "         [1.1822e+02, 4.4076e+01, 0.0000e+00, 4.9082e+00, 0.0000e+00],\n",
       "         [5.6608e+01, 4.2397e+01, 0.0000e+00, 7.8079e+00, 0.0000e+00],\n",
       "         [1.9531e+02, 1.0042e+02, 9.6921e+01, 2.7165e+01, 0.0000e+00],\n",
       "         [2.0915e+02, 6.9443e+01, 3.7490e+01, 1.1816e+01, 0.0000e+00],\n",
       "         [9.8539e+01, 1.2184e+01, 0.0000e+00, 0.0000e+00, 2.0700e+01],\n",
       "         [1.0814e+02, 4.0382e+01, 1.5800e+01, 8.4546e+00, 0.0000e+00],\n",
       "         [4.4915e+01, 2.9112e+00, 0.0000e+00, 1.4186e+01, 1.0450e+00],\n",
       "         [7.0443e+01, 3.3948e+01, 1.9238e+00, 6.5903e+00, 0.0000e+00],\n",
       "         [1.0900e+02, 4.1090e+01, 1.4986e+01, 8.0839e+00, 0.0000e+00],\n",
       "         [1.3840e+01, 0.0000e+00, 0.0000e+00, 1.5973e+01, 0.0000e+00],\n",
       "         [4.8944e+01, 2.5338e+01, 0.0000e+00, 3.8242e+00, 0.0000e+00],\n",
       "         [8.2255e+01, 1.0625e+01, 0.0000e+00, 0.0000e+00, 1.8122e+01],\n",
       "         [4.0562e+01, 0.0000e+00, 0.0000e+00, 4.7894e+01, 0.0000e+00]],\n",
       "        dtype=torch.float64, grad_fn=<ClampBackward1>),\n",
       " torch.Size([50, 5]))"
      ]
     },
     "execution_count": 178,
     "metadata": {},
     "output_type": "execute_result"
    }
   ],
   "source": [
    "actfn = ReLU_Sum()\n",
    "temp = actfn(op)\n",
    "temp,temp.shape"
   ]
  },
  {
   "cell_type": "code",
   "execution_count": 179,
   "metadata": {},
   "outputs": [
    {
     "name": "stdout",
     "output_type": "stream",
     "text": [
      "torch.Size([50, 9])\n",
      "torch.Size([50, 1])\n"
     ]
    },
    {
     "name": "stderr",
     "output_type": "stream",
     "text": [
      "/var/folders/c1/p9_k34rn3ts62n7p14f6tdvw0000gn/T/ipykernel_29745/520802797.py:11: UserWarning: Using a target size (torch.Size([50, 1])) that is different to the input size (torch.Size([50, 9])). This will likely lead to incorrect results due to broadcasting. Please ensure they have the same size.\n",
      "  F.mse_loss(xb,yb[:,None])\n"
     ]
    },
    {
     "data": {
      "text/plain": [
       "tensor(3106.3630, dtype=torch.float64)"
      ]
     },
     "execution_count": 179,
     "metadata": {},
     "output_type": "execute_result"
    }
   ],
   "source": [
    "n_in = 9\n",
    "nh = 15\n",
    "n_out = 1\n",
    "p = 5\n",
    "q = 5\n",
    "xb1 = xb\n",
    "layers = [Linear(n_in,nh,p,q),ReLU_Sum(),Linear(nh,n_out,p,q),ReLU_Sum(0)]\n",
    "for l in layers: xb1 = l(xb1)\n",
    "print(xb.shape)\n",
    "print(yb[:,None].shape)\n",
    "F.mse_loss(xb,yb[:,None])"
   ]
  },
  {
   "cell_type": "code",
   "execution_count": 270,
   "metadata": {},
   "outputs": [],
   "source": [
    "class Model(nn.Module):\n",
    "    def __init__(self, n_in, nh, n_out, p, q):\n",
    "        super().__init__()\n",
    "        # self._modules = {}\n",
    "        self.layers = nn.ModuleList([Linear(n_in,nh,p,q),ReLU_Sum(),Linear(nh,n_out,p,q),ReLU_Sum(0)])\n",
    "        # self.l1 = Linear(n_in,nh,p,q)\n",
    "        # self.r1 = ReLU_Sum()\n",
    "        # self.l2 = Linear(nh,n_out,p,q)\n",
    "        # self.r2 = ReLU_Sum(0)\n",
    "\n",
    "    # def __setattr__(self,k,v):\n",
    "    #     if not k.startswith(\"_\"): self._modules[k] = v\n",
    "    #     super().__setattr__(k,v)\n",
    "\n",
    "    # def __repr__(self): return f'{self._modules}'\n",
    "\n",
    "    def parameters(self):\n",
    "        for l in self.layers: yield from l.parameters()\n",
    "        # for l in self._modules.values(): yield from l.parameters()\n",
    "        \n",
    "    # def __call__(self, x, targ):\n",
    "    def __call__(self, x):\n",
    "        for l in self.layers: x = l(x)\n",
    "        # for l in self._modules.values(): x = l(x)\n",
    "        # return F.mse_loss(x,targ[:,None])\n",
    "        return x"
   ]
  },
  {
   "cell_type": "code",
   "execution_count": 251,
   "metadata": {},
   "outputs": [],
   "source": [
    "def collate(b):\n",
    "    xs,ys = zip(*b)\n",
    "    return torch.stack(xs),torch.stack(ys)"
   ]
  },
  {
   "cell_type": "code",
   "execution_count": 252,
   "metadata": {},
   "outputs": [],
   "source": [
    "train_samp = BatchSampler(RandomSampler(train_ds),     50, drop_last=False)\n",
    "val_samp = BatchSampler(SequentialSampler(val_ds), 50, drop_last=False)"
   ]
  },
  {
   "cell_type": "code",
   "execution_count": 253,
   "metadata": {},
   "outputs": [],
   "source": [
    "train_dl = DataLoader(train_ds, batch_sampler=train_samp, collate_fn=collate)\n",
    "val_dl = DataLoader(val_ds, batch_sampler=val_samp, collate_fn=collate)"
   ]
  },
  {
   "cell_type": "code",
   "execution_count": 254,
   "metadata": {},
   "outputs": [
    {
     "data": {
      "text/plain": [
       "(torch.Size([50, 9]), torch.Size([50]))"
      ]
     },
     "execution_count": 254,
     "metadata": {},
     "output_type": "execute_result"
    }
   ],
   "source": [
    "xb,yb = next(iter(val_dl))\n",
    "xb.shape,yb.shape"
   ]
  },
  {
   "cell_type": "code",
   "execution_count": 255,
   "metadata": {},
   "outputs": [],
   "source": [
    "# model = Model(9,15,1,5,5)\n",
    "# loss = model(xb,yb)\n",
    "# print(loss)\n",
    "# loss.backward()"
   ]
  },
  {
   "cell_type": "code",
   "execution_count": 256,
   "metadata": {},
   "outputs": [],
   "source": [
    "# l0 = model.layers[0]\n",
    "# print(l0.b.grad)"
   ]
  },
  {
   "cell_type": "code",
   "execution_count": 257,
   "metadata": {},
   "outputs": [],
   "source": [
    "loss_func = F.cross_entropy\n",
    "bs = 50"
   ]
  },
  {
   "cell_type": "code",
   "execution_count": 271,
   "metadata": {},
   "outputs": [],
   "source": [
    "model = Model(9,15,2,5,5)\n",
    "# pred = model(train_ds.x)\n",
    "# pred.shape"
   ]
  },
  {
   "cell_type": "code",
   "execution_count": 259,
   "metadata": {},
   "outputs": [
    {
     "data": {
      "text/plain": [
       "tensor([[ 2.2957e+00, -5.3373e-01],\n",
       "        [ 5.3893e-01,  1.0078e-03],\n",
       "        [ 9.1839e-01, -7.0683e-02],\n",
       "        [ 1.1566e+00, -2.1618e-02],\n",
       "        [ 5.5305e-01,  3.0777e-02],\n",
       "        [ 1.1522e+00, -1.7642e-01],\n",
       "        [ 9.5733e-01, -6.0113e-02],\n",
       "        [ 1.0804e+00, -8.2242e-02],\n",
       "        [ 9.3186e-01, -1.7399e-01],\n",
       "        [ 1.1490e+00, -1.3467e-01],\n",
       "        [ 1.1693e+00, -2.9553e-01],\n",
       "        [ 1.0193e+00, -1.2275e-01],\n",
       "        [ 1.4138e+00, -3.5970e-01],\n",
       "        [ 4.1939e-01,  4.1165e-02],\n",
       "        [ 6.8164e-01,  2.9434e-02],\n",
       "        [ 1.6475e+00, -3.0500e-01],\n",
       "        [ 6.6467e-01, -1.6511e-01],\n",
       "        [ 8.8561e-01, -1.6027e-01],\n",
       "        [ 1.3087e+00, -2.5886e-01],\n",
       "        [ 2.7102e-01, -1.0478e-01],\n",
       "        [ 1.0451e+00, -1.3231e-01],\n",
       "        [ 6.9573e-01, -7.1961e-02],\n",
       "        [ 4.4198e-01, -6.4711e-02],\n",
       "        [ 1.5830e+00, -2.9654e-01],\n",
       "        [ 1.1917e+00, -2.5652e-01],\n",
       "        [ 6.5332e-01, -1.3432e-01],\n",
       "        [ 1.4581e+00, -3.4446e-01],\n",
       "        [ 1.3736e+00, -1.7628e-01],\n",
       "        [ 1.3795e+00, -2.7597e-01],\n",
       "        [ 6.8341e-01, -1.9065e-01],\n",
       "        [ 1.1889e+00, -2.4256e-01],\n",
       "        [ 1.0932e+00, -2.3151e-01],\n",
       "        [ 8.3474e-01, -1.6465e-01],\n",
       "        [ 1.5024e+00, -4.0696e-01],\n",
       "        [ 9.5380e-01, -1.9514e-01],\n",
       "        [ 3.3265e-01, -6.7197e-03],\n",
       "        [ 1.4100e+00, -2.7212e-01],\n",
       "        [ 1.2725e+00, -1.9359e-01],\n",
       "        [ 7.1019e-01,  5.3186e-02],\n",
       "        [ 9.6281e-01, -1.0908e-01],\n",
       "        [ 1.3218e+00, -4.7666e-01],\n",
       "        [ 1.3154e+00, -3.2847e-01],\n",
       "        [ 6.9582e-01, -2.0918e-01],\n",
       "        [ 7.6391e-01, -1.9963e-01],\n",
       "        [ 5.0668e-01, -6.7530e-02],\n",
       "        [ 7.0345e-01, -2.0813e-01],\n",
       "        [ 2.1039e-01, -9.5586e-02],\n",
       "        [ 5.6461e-01, -6.4412e-03],\n",
       "        [ 1.2378e+00, -2.5935e-01],\n",
       "        [ 8.1963e-01, -2.8286e-01],\n",
       "        [ 5.3247e-01,  1.0849e-02],\n",
       "        [ 6.6940e-01, -1.0867e-01],\n",
       "        [ 3.4136e-01, -5.0108e-02],\n",
       "        [ 8.7676e-01, -8.0866e-02],\n",
       "        [ 1.5174e+00, -4.4959e-01],\n",
       "        [ 7.8364e-01, -2.8573e-01],\n",
       "        [ 8.3070e-01, -2.8633e-01],\n",
       "        [ 4.9354e-01, -5.6900e-03],\n",
       "        [ 1.3831e+00, -2.0104e-01],\n",
       "        [ 4.6231e-01, -8.1235e-02],\n",
       "        [ 9.1192e-01, -1.9179e-01],\n",
       "        [ 1.0811e+00, -3.7082e-01],\n",
       "        [ 1.3915e+00, -4.4807e-01],\n",
       "        [ 7.3842e-01, -9.4316e-02],\n",
       "        [ 9.2781e-01, -2.0395e-01],\n",
       "        [ 1.0666e+00, -1.4060e-01],\n",
       "        [ 1.5551e+00, -3.8935e-01],\n",
       "        [ 1.6021e+00, -3.1524e-01],\n",
       "        [ 1.1226e+00, -2.9263e-01],\n",
       "        [ 1.4447e+00, -3.9561e-01],\n",
       "        [ 1.1448e+00, -9.7834e-02],\n",
       "        [ 1.2232e+00, -2.0997e-01],\n",
       "        [ 1.0474e+00, -2.7639e-01],\n",
       "        [ 7.3265e-01, -9.9513e-02],\n",
       "        [ 5.6283e-01,  8.2872e-03],\n",
       "        [ 1.5704e+00, -4.0927e-01],\n",
       "        [ 8.6637e-01, -1.2056e-01],\n",
       "        [ 1.1000e+00, -8.5403e-02],\n",
       "        [ 4.0929e-01, -4.8231e-02],\n",
       "        [ 1.2336e+00, -3.5155e-01],\n",
       "        [ 1.4086e+00, -2.7569e-01],\n",
       "        [ 3.7841e-01,  4.2512e-02],\n",
       "        [ 3.1254e-01, -2.3208e-02],\n",
       "        [ 8.7834e-01, -1.6645e-01],\n",
       "        [ 4.9982e-01, -1.2058e-02],\n",
       "        [ 7.6031e-01, -2.2384e-01],\n",
       "        [ 6.8133e-01, -1.7273e-01],\n",
       "        [ 1.5324e+00, -4.2531e-01],\n",
       "        [ 4.8749e-01, -1.4019e-01],\n",
       "        [ 6.7970e-01, -6.2799e-02],\n",
       "        [ 1.0055e+00, -2.2832e-01],\n",
       "        [ 5.9496e-01,  1.6436e-02],\n",
       "        [ 1.0643e+00, -1.8692e-01],\n",
       "        [ 3.6457e-01,  3.9256e-02],\n",
       "        [ 6.6669e-01, -1.1802e-01],\n",
       "        [ 7.9256e-01, -2.3179e-01],\n",
       "        [ 1.1992e+00, -3.0542e-01],\n",
       "        [ 1.0843e+00, -2.3740e-01],\n",
       "        [ 1.0379e+00, -1.1657e-01],\n",
       "        [ 7.6054e-01, -1.7600e-01],\n",
       "        [ 1.0201e+00, -9.5285e-02],\n",
       "        [ 6.0976e-01, -9.2175e-02],\n",
       "        [ 6.3932e-01, -1.3648e-01],\n",
       "        [ 3.4107e-01, -1.2305e-01],\n",
       "        [ 1.4084e+00, -3.2907e-01],\n",
       "        [ 3.0861e-01,  1.1834e-02],\n",
       "        [ 9.6058e-01, -2.2854e-01],\n",
       "        [ 1.1442e+00, -1.4594e-01],\n",
       "        [ 9.0403e-01, -1.5945e-01],\n",
       "        [ 6.8813e-01, -1.1982e-01],\n",
       "        [ 5.4341e-01,  5.3805e-02],\n",
       "        [ 1.0742e+00, -1.7661e-01],\n",
       "        [ 6.5932e-01, -1.7158e-01],\n",
       "        [ 7.7697e-01, -9.9299e-02],\n",
       "        [ 8.5223e-01, -1.0445e-01],\n",
       "        [ 3.4911e-01,  1.0911e-02],\n",
       "        [ 1.4969e+00, -1.3229e-01],\n",
       "        [ 1.3164e+00, -3.2130e-01],\n",
       "        [ 7.8312e-01, -3.4249e-03],\n",
       "        [ 6.0425e-01, -1.0388e-01],\n",
       "        [ 1.3784e+00, -3.4066e-01],\n",
       "        [ 1.3848e+00, -4.8827e-01],\n",
       "        [ 1.1369e+00, -2.9755e-01],\n",
       "        [ 5.4841e-01,  2.7581e-02],\n",
       "        [ 9.6130e-01, -2.4098e-01],\n",
       "        [ 3.8336e-01, -2.8507e-02],\n",
       "        [ 1.2628e+00, -2.6711e-01],\n",
       "        [ 7.5340e-01, -2.3722e-01]], dtype=torch.float64,\n",
       "       grad_fn=<MeanBackward1>)"
      ]
     },
     "execution_count": 259,
     "metadata": {},
     "output_type": "execute_result"
    }
   ],
   "source": [
    "pred"
   ]
  },
  {
   "cell_type": "code",
   "execution_count": 260,
   "metadata": {},
   "outputs": [
    {
     "data": {
      "text/plain": [
       "tensor(1.1008, dtype=torch.float64, grad_fn=<NllLossBackward0>)"
      ]
     },
     "execution_count": 260,
     "metadata": {},
     "output_type": "execute_result"
    }
   ],
   "source": [
    "loss_func(pred,train_ds.y)"
   ]
  },
  {
   "cell_type": "code",
   "execution_count": 261,
   "metadata": {},
   "outputs": [
    {
     "data": {
      "text/plain": [
       "tensor([0, 0, 0, 0, 0, 0, 0, 0, 0, 0, 0, 0, 0, 0, 0, 0, 0, 0, 0, 0, 0, 0, 0, 0,\n",
       "        0, 0, 0, 0, 0, 0, 0, 0, 0, 0, 0, 0, 0, 0, 0, 0, 0, 0, 0, 0, 0, 0, 0, 0,\n",
       "        0, 0, 0, 0, 0, 0, 0, 0, 0, 0, 0, 0, 0, 0, 0, 0, 0, 0, 0, 0, 0, 0, 0, 0,\n",
       "        0, 0, 0, 0, 0, 0, 0, 0, 0, 0, 0, 0, 0, 0, 0, 0, 0, 0, 0, 0, 0, 0, 0, 0,\n",
       "        0, 0, 0, 0, 0, 0, 0, 0, 0, 0, 0, 0, 0, 0, 0, 0, 0, 0, 0, 0, 0, 0, 0, 0,\n",
       "        0, 0, 0, 0, 0, 0, 0, 0])"
      ]
     },
     "execution_count": 261,
     "metadata": {},
     "output_type": "execute_result"
    }
   ],
   "source": [
    "pred.argmax(dim=1)"
   ]
  },
  {
   "cell_type": "code",
   "execution_count": 262,
   "metadata": {},
   "outputs": [],
   "source": [
    "def accuracy(out, targ): return (out.argmax(dim=1)==targ).float().mean()"
   ]
  },
  {
   "cell_type": "code",
   "execution_count": 263,
   "metadata": {},
   "outputs": [
    {
     "data": {
      "text/plain": [
       "tensor(0.3125)"
      ]
     },
     "execution_count": 263,
     "metadata": {},
     "output_type": "execute_result"
    }
   ],
   "source": [
    "accuracy(pred, train_ds.y)"
   ]
  },
  {
   "cell_type": "code",
   "execution_count": 395,
   "metadata": {},
   "outputs": [],
   "source": [
    "def report(loss, preds, yb):\n",
    "\tacc = accuracy(preds, yb)\n",
    "\tprint(f'{loss}, {acc}')\n",
    "\treturn acc"
   ]
  },
  {
   "cell_type": "code",
   "execution_count": 272,
   "metadata": {},
   "outputs": [
    {
     "name": "stdout",
     "output_type": "stream",
     "text": [
      "0.78, 0.46\n"
     ]
    }
   ],
   "source": [
    "xb,yb = train_ds.x[:bs],train_ds.y[:bs]\n",
    "preds = model(xb)\n",
    "report(loss_func(preds, yb), preds, yb)"
   ]
  },
  {
   "cell_type": "code",
   "execution_count": 273,
   "metadata": {},
   "outputs": [
    {
     "data": {
      "text/plain": [
       "[('layers',\n",
       "  ModuleList(\n",
       "    (0): Linear()\n",
       "    (1): ReLU_Sum()\n",
       "    (2): Linear()\n",
       "    (3): ReLU_Sum()\n",
       "  ))]"
      ]
     },
     "execution_count": 273,
     "metadata": {},
     "output_type": "execute_result"
    }
   ],
   "source": [
    "list(model.named_children())"
   ]
  },
  {
   "cell_type": "code",
   "execution_count": 274,
   "metadata": {},
   "outputs": [
    {
     "data": {
      "text/plain": [
       "torch.Size([15, 2])"
      ]
     },
     "execution_count": 274,
     "metadata": {},
     "output_type": "execute_result"
    }
   ],
   "source": [
    "list(model.parameters())[2].shape"
   ]
  },
  {
   "cell_type": "code",
   "execution_count": 275,
   "metadata": {},
   "outputs": [
    {
     "data": {
      "text/plain": [
       "Model(\n",
       "  (layers): ModuleList(\n",
       "    (0): Linear()\n",
       "    (1): ReLU_Sum()\n",
       "    (2): Linear()\n",
       "    (3): ReLU_Sum()\n",
       "  )\n",
       ")"
      ]
     },
     "execution_count": 275,
     "metadata": {},
     "output_type": "execute_result"
    }
   ],
   "source": [
    "model"
   ]
  },
  {
   "cell_type": "code",
   "execution_count": 276,
   "metadata": {},
   "outputs": [
    {
     "name": "stdout",
     "output_type": "stream",
     "text": [
      "torch.Size([9, 15])\n",
      "torch.Size([5, 5])\n",
      "torch.Size([15, 2])\n",
      "torch.Size([5, 5])\n"
     ]
    }
   ],
   "source": [
    "for p in model.parameters(): print(p.shape)"
   ]
  },
  {
   "cell_type": "code",
   "execution_count": 339,
   "metadata": {},
   "outputs": [],
   "source": [
    "def get_model():\n",
    "    model = Model(9,15,2,5,5)\n",
    "    return model"
   ]
  },
  {
   "cell_type": "code",
   "execution_count": 344,
   "metadata": {},
   "outputs": [
    {
     "data": {
      "text/plain": [
       "tensor(1.2926, dtype=torch.float64, grad_fn=<NllLossBackward0>)"
      ]
     },
     "execution_count": 344,
     "metadata": {},
     "output_type": "execute_result"
    }
   ],
   "source": [
    "model= get_model()\n",
    "loss_func(model(xb), yb)"
   ]
  },
  {
   "cell_type": "code",
   "execution_count": 351,
   "metadata": {},
   "outputs": [],
   "source": [
    "opt = optim.SGD(model.parameters(), lr=lr)"
   ]
  },
  {
   "cell_type": "code",
   "execution_count": 352,
   "metadata": {},
   "outputs": [],
   "source": [
    "s = slice(0, 50)\n",
    "xb,yb = train_ds.x[s],train_ds.y[s]\n",
    "preds = model(xb)\n",
    "loss = loss_func(preds, yb)"
   ]
  },
  {
   "cell_type": "code",
   "execution_count": 353,
   "metadata": {},
   "outputs": [
    {
     "name": "stdout",
     "output_type": "stream",
     "text": [
      "torch.Size([50, 9]) torch.Size([50])\n",
      "tensor(0.2600)\n",
      "tensor(1.2926, dtype=torch.float64, grad_fn=<NllLossBackward0>)\n"
     ]
    }
   ],
   "source": [
    "print(xb.shape,yb.shape)\n",
    "print((preds[:,1]>preds[:,0]).float().mean())\n",
    "print(loss)"
   ]
  },
  {
   "cell_type": "code",
   "execution_count": 354,
   "metadata": {},
   "outputs": [],
   "source": [
    "loss.backward()"
   ]
  },
  {
   "cell_type": "code",
   "execution_count": 355,
   "metadata": {},
   "outputs": [
    {
     "data": {
      "text/plain": [
       "tensor([[ 1.1478e-02,  0.0000e+00,  0.0000e+00,  0.0000e+00,  0.0000e+00,\n",
       "         -9.6510e-03, -1.0421e-02, -3.9295e-04,  5.1016e-03, -1.3276e-03,\n",
       "          4.3685e-03, -1.7498e-03, -1.9725e-04,  7.5066e-04, -9.6471e-04],\n",
       "        [ 5.8997e-04,  0.0000e+00,  0.0000e+00,  0.0000e+00,  0.0000e+00,\n",
       "          9.6593e-04, -8.4497e-05,  1.2034e-04, -8.7815e-04, -1.7591e-03,\n",
       "         -2.5744e-04,  7.0003e-04,  0.0000e+00, -1.2126e-04,  3.2471e-04],\n",
       "        [ 3.5907e-01,  0.0000e+00,  0.0000e+00,  0.0000e+00,  0.0000e+00,\n",
       "         -3.1000e-01, -3.3695e-01, -4.8737e-03,  1.7661e-01, -5.3863e-02,\n",
       "          1.4344e-01, -4.4476e-02,  2.0382e-03,  2.3910e-02,  4.9484e-03],\n",
       "        [ 5.3522e-03,  0.0000e+00,  0.0000e+00,  0.0000e+00,  0.0000e+00,\n",
       "         -5.7136e-03, -5.9205e-03, -2.5427e-04,  3.3519e-03,  0.0000e+00,\n",
       "          2.4741e-03, -4.6588e-04,  0.0000e+00,  4.6287e-04,  0.0000e+00],\n",
       "        [ 5.8018e-03,  0.0000e+00,  0.0000e+00,  0.0000e+00,  0.0000e+00,\n",
       "         -4.9715e-03, -5.1515e-03,  0.0000e+00,  2.7095e-03,  0.0000e+00,\n",
       "          2.3027e-03, -6.5696e-04, -1.2210e-04,  4.0275e-04,  0.0000e+00],\n",
       "        [ 5.5885e-01,  0.0000e+00,  0.0000e+00,  0.0000e+00,  0.0000e+00,\n",
       "         -4.9472e-01, -4.4996e-01,  2.6017e-04,  2.7256e-01, -2.4791e-02,\n",
       "          1.8146e-01, -1.0881e-01,  5.6354e-03,  3.6319e-02, -3.1777e-02],\n",
       "        [ 1.9009e+00,  0.0000e+00,  0.0000e+00,  0.0000e+00,  0.0000e+00,\n",
       "         -1.5965e+00, -1.6439e+00, -1.5315e-02,  9.3658e-01, -1.6513e-02,\n",
       "          7.9791e-01, -2.0748e-01, -3.8992e-04,  1.2942e-01,  4.4832e-03],\n",
       "        [ 5.7610e-01,  0.0000e+00,  0.0000e+00,  0.0000e+00,  0.0000e+00,\n",
       "         -5.1312e-01, -4.6026e-01,  2.6017e-04,  2.7294e-01, -2.0531e-02,\n",
       "          1.8717e-01, -1.1047e-01,  1.2398e-03,  3.7400e-02, -4.9079e-03],\n",
       "        [ 4.3131e-03,  0.0000e+00,  0.0000e+00,  0.0000e+00,  0.0000e+00,\n",
       "         -3.3294e-03, -2.8321e-03, -1.2951e-04,  1.5780e-03,  2.7291e-04,\n",
       "          1.3713e-03, -7.9235e-04, -3.7572e-05,  2.2671e-04, -6.4471e-04]],\n",
       "       dtype=torch.float64)"
      ]
     },
     "execution_count": 355,
     "metadata": {},
     "output_type": "execute_result"
    }
   ],
   "source": [
    "# list(model.parameters())[0]\n",
    "list(model.parameters())[0].grad"
   ]
  },
  {
   "cell_type": "code",
   "execution_count": 356,
   "metadata": {},
   "outputs": [
    {
     "data": {
      "text/plain": [
       "tensor([[-0.6622, -0.4809, -0.8836,  2.3611, -1.1461, -0.3039,  0.3671, -0.3219,\n",
       "         -0.8459,  0.2514,  0.2277, -0.2097,  0.3899,  1.5333, -0.3938],\n",
       "        [ 0.3164,  0.4982, -1.7740, -1.0169, -0.1901, -0.1443, -0.1473,  0.0120,\n",
       "          0.7100, -1.8298,  1.4526, -0.1702, -1.6269,  0.6271, -0.6118],\n",
       "        [ 0.6740,  0.6484,  1.2584,  0.5769,  2.3354, -0.1306, -0.7479, -1.3661,\n",
       "         -1.3302, -1.7510, -1.7888, -0.1133,  0.0452, -0.2699, -0.6443],\n",
       "        [-1.5492, -0.1104,  1.3219, -1.4882, -1.0270,  0.1573, -0.3135, -0.6809,\n",
       "         -0.9766,  0.2069, -2.3003, -0.4464, -0.4187, -0.2864, -0.3993],\n",
       "        [-1.2662, -0.3427, -0.5304,  1.4336,  0.9274, -0.6882, -1.2160,  1.3841,\n",
       "         -0.0040, -0.4037,  1.3520,  0.9583, -1.2814, -1.3315,  1.2633],\n",
       "        [-0.2628,  0.1979,  0.5841,  1.4740,  0.2179,  1.7474,  1.2138,  0.0581,\n",
       "         -0.3153,  3.1678,  2.4572,  0.3901, -0.4108,  0.3501, -0.0311],\n",
       "        [-2.5105,  1.3426,  0.0184,  0.1946,  1.6220,  0.5012,  0.2410,  0.7311,\n",
       "         -1.4368,  2.2496, -1.8478,  0.5504,  0.2796, -0.1377,  0.5887],\n",
       "        [-0.8959,  1.3056, -0.3785, -0.3504, -0.9053, -0.3744,  1.3710,  2.5736,\n",
       "         -0.1972, -2.9422, -0.4864, -1.3456,  0.6543, -1.0403,  0.9671],\n",
       "        [ 0.3552,  0.2910,  0.9195, -0.0041, -0.0283,  1.1030, -1.2117,  1.1885,\n",
       "          0.3923,  0.0963,  0.5699,  1.9588,  0.2590, -1.6022, -0.5691]],\n",
       "       dtype=torch.float64, requires_grad=True)"
      ]
     },
     "execution_count": 356,
     "metadata": {},
     "output_type": "execute_result"
    }
   ],
   "source": [
    "opt.step()\n",
    "list(model.parameters())[0]\n",
    "# list(model.parameters())[0].grad"
   ]
  },
  {
   "cell_type": "code",
   "execution_count": 357,
   "metadata": {},
   "outputs": [],
   "source": [
    "opt.zero_grad()\n",
    "list(model.parameters())[0].grad"
   ]
  },
  {
   "cell_type": "code",
   "execution_count": 398,
   "metadata": {},
   "outputs": [
    {
     "name": "stdout",
     "output_type": "stream",
     "text": [
      "0.7083237279546503, 0.7142857313156128\n",
      "0.6731772215653813, 0.7142857313156128\n",
      "0.6617995278276922, 0.6785714030265808\n",
      "0.6559755073009575, 0.6785714030265808\n",
      "0.6521842927219981, 0.6785714030265808\n",
      "0.6493188738517292, 0.6785714030265808\n",
      "0.6466950673461633, 0.7142857313156128\n",
      "0.643805847461464, 0.7142857313156128\n",
      "0.6409793756770046, 0.7142857313156128\n",
      "0.6379178734583003, 0.6785714030265808\n",
      "0.6345765746614674, 0.6785714030265808\n",
      "0.6318590982339166, 0.6785714030265808\n",
      "0.6293716825326792, 0.6785714030265808\n",
      "0.6272339755768028, 0.6785714030265808\n",
      "0.6257158043247958, 0.6785714030265808\n",
      "0.6245037339253409, 0.6785714030265808\n",
      "0.6235077441178288, 0.6785714030265808\n",
      "0.6226028781096419, 0.6785714030265808\n",
      "0.6215483986809759, 0.6785714030265808\n",
      "0.6206005692404511, 0.6785714030265808\n",
      "0.6200911159434824, 0.6785714030265808\n",
      "0.6198248876516165, 0.6785714030265808\n",
      "0.6196484645077944, 0.6785714030265808\n",
      "0.6194731407450613, 0.6785714030265808\n",
      "0.6193182959996751, 0.6785714030265808\n",
      "0.6191836653102978, 0.6785714030265808\n",
      "0.6190844529012631, 0.6785714030265808\n",
      "0.6190037962051095, 0.6785714030265808\n",
      "0.618950305325803, 0.6785714030265808\n",
      "0.618982489911236, 0.7142857313156128\n",
      "0.6190494624899107, 0.7142857313156128\n",
      "0.6191254254753444, 0.7142857313156128\n",
      "0.6192032941082471, 0.7142857313156128\n",
      "0.6192509521625341, 0.7142857313156128\n",
      "0.6193127820145155, 0.7142857313156128\n",
      "0.6193722757374694, 0.7142857313156128\n",
      "0.6194232350687188, 0.7142857313156128\n",
      "0.6194655143605291, 0.7142857313156128\n",
      "0.619535059540489, 0.7142857313156128\n",
      "0.6196928977557449, 0.7142857313156128\n",
      "0.6196618823886827, 0.7142857313156128\n",
      "0.6196604363093975, 0.7142857313156128\n",
      "0.6196631308423225, 0.7142857313156128\n",
      "0.6197809498241866, 0.7142857313156128\n",
      "0.6196827247338036, 0.7142857313156128\n",
      "0.6196542088485294, 0.7142857313156128\n",
      "0.6196545412157353, 0.7142857313156128\n",
      "0.619787278826451, 0.7142857313156128\n",
      "0.6196924318935152, 0.7142857313156128\n",
      "0.6196359514693315, 0.7142857313156128\n"
     ]
    }
   ],
   "source": [
    "lr = 0.1\n",
    "epochs = 50\n",
    "bs = 50\n",
    "n = len(train_ds)\n",
    "\n",
    "model= get_model()\n",
    "opt = optim.SGD(model.parameters(), lr=lr)\n",
    "loss_hist = []\n",
    "acc_hist = []\n",
    "\n",
    "for epoch in range(epochs):\n",
    "    for i in range(0, n, bs):\n",
    "        s = slice(i, min(n,i+bs))\n",
    "        xb,yb = train_ds.x[s],train_ds.y[s]\n",
    "        preds = model(xb)\n",
    "        loss = loss_func(preds, yb)\n",
    "        loss_hist.append(loss.detach().numpy())\n",
    "        loss.backward()\n",
    "        opt.step()\n",
    "        opt.zero_grad()\n",
    "    acc_hist.append(report(loss, preds, yb))"
   ]
  },
  {
   "cell_type": "code",
   "execution_count": 400,
   "metadata": {},
   "outputs": [
    {
     "data": {
      "text/plain": [
       "[<matplotlib.lines.Line2D at 0x15249a210>]"
      ]
     },
     "execution_count": 400,
     "metadata": {},
     "output_type": "execute_result"
    },
    {
     "data": {
      "image/png": "[encoded data removed]",
      "text/plain": [
       "<Figure size 640x480 with 1 Axes>"
      ]
     },
     "metadata": {},
     "output_type": "display_data"
    }
   ],
   "source": [
    "plt.plot(loss_hist)"
   ]
  },
  {
   "cell_type": "code",
   "execution_count": 401,
   "metadata": {},
   "outputs": [
    {
     "data": {
      "text/plain": [
       "[<matplotlib.lines.Line2D at 0x1520aec90>]"
      ]
     },
     "execution_count": 401,
     "metadata": {},
     "output_type": "execute_result"
    },
    {
     "data": {
      "image/png": "[encoded data removed]",
      "text/plain": [
       "<Figure size 640x480 with 1 Axes>"
      ]
     },
     "metadata": {},
     "output_type": "display_data"
    }
   ],
   "source": [
    "plt.plot(acc_hist)"
   ]
  },
  {
   "cell_type": "code",
   "execution_count": null,
   "metadata": {},
   "outputs": [],
   "source": []
  }
 ],
 "metadata": {
  "kernelspec": {
   "display_name": "PyTorch2.0",
   "language": "python",
   "name": "python3"
  },
  "language_info": {
   "codemirror_mode": {
    "name": "ipython",
    "version": 3
   },
   "file_extension": ".py",
   "mimetype": "text/x-python",
   "name": "python",
   "nbconvert_exporter": "python",
   "pygments_lexer": "ipython3",
   "version": "3.11.3"
  },
  "orig_nbformat": 4
 },
 "nbformat": 4,
 "nbformat_minor": 2
}
